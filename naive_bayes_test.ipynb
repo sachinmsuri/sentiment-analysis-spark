{
 "cells": [
  {
   "cell_type": "code",
   "execution_count": 1,
   "metadata": {},
   "outputs": [],
   "source": [
    "from pyspark.sql import SparkSession\n",
    "\n",
    "spark = SparkSession \\\n",
    "    .builder \\\n",
    "    .master(\"local[*]\") \\\n",
    "    .appName(\"CW\") \\\n",
    "    .getOrCreate()\n",
    "\n",
    "sc = spark.sparkContext"
   ]
  },
  {
   "cell_type": "code",
   "execution_count": 2,
   "metadata": {},
   "outputs": [
    {
     "data": {
      "text/html": [
       "\n",
       "        <div>\n",
       "            <p><b>SparkContext</b></p>\n",
       "\n",
       "            <p><a href=\"http://sachins-mbp.home:4040\">Spark UI</a></p>\n",
       "\n",
       "            <dl>\n",
       "              <dt>Version</dt>\n",
       "                <dd><code>v3.1.1</code></dd>\n",
       "              <dt>Master</dt>\n",
       "                <dd><code>local[*]</code></dd>\n",
       "              <dt>AppName</dt>\n",
       "                <dd><code>CW</code></dd>\n",
       "            </dl>\n",
       "        </div>\n",
       "        "
      ],
      "text/plain": [
       "<SparkContext master=local[*] appName=CW>"
      ]
     },
     "execution_count": 2,
     "metadata": {},
     "output_type": "execute_result"
    }
   ],
   "source": [
    "sc"
   ]
  },
  {
   "cell_type": "code",
   "execution_count": 3,
   "metadata": {},
   "outputs": [],
   "source": [
    "from time import time\n",
    "from preprocessing.Preprocessor import Preprocessor\n",
    "from pyspark.ml.classification import NaiveBayes\n",
    "from pyspark.ml.evaluation import MulticlassClassificationEvaluator\n",
    "from metrics.metrics import Metrics"
   ]
  },
  {
   "cell_type": "code",
   "execution_count": 4,
   "metadata": {},
   "outputs": [],
   "source": [
    "pp = Preprocessor(spark)"
   ]
  },
  {
   "cell_type": "code",
   "execution_count": 5,
   "metadata": {},
   "outputs": [],
   "source": [
    "train = pp.to_bow('Cleaned Data/train.csv', min_frequency=275., remove_stop_words = False)\n",
    "#train = train.sample(False, 0.9)\n",
    "test =  pp.to_bow('Cleaned Data/test.csv')"
   ]
  },
  {
   "cell_type": "code",
   "execution_count": 6,
   "metadata": {},
   "outputs": [
    {
     "data": {
      "text/plain": [
       "'lst_smooth = [0, 1.0, 100.0, 500, 1000]\\nlst_model = []\\nlst_model_transform = []\\n\\n\\nfor i in lst_smooth:\\n    nb = NaiveBayes(smoothing=i, modelType=\"multinomial\")\\n    model = nb.fit(train)\\n    lst_model.append(model)\\n    train_preds_and_labels = model.transform(train).select(\\'prediction\\', \\'label\\')\\n    lst_model_transform.append(train_preds_and_labels)'"
      ]
     },
     "execution_count": 6,
     "metadata": {},
     "output_type": "execute_result"
    }
   ],
   "source": [
    "\"\"\"lst_smooth = [0, 1.0, 100.0, 500, 1000]\n",
    "lst_model = []\n",
    "lst_model_transform = []\n",
    "\n",
    "\n",
    "for i in lst_smooth:\n",
    "    nb = NaiveBayes(smoothing=i, modelType=\"multinomial\")\n",
    "    model = nb.fit(train)\n",
    "    lst_model.append(model)\n",
    "    train_preds_and_labels = model.transform(train).select('prediction', 'label')\n",
    "    lst_model_transform.append(train_preds_and_labels)\"\"\""
   ]
  },
  {
   "cell_type": "code",
   "execution_count": 7,
   "metadata": {},
   "outputs": [],
   "source": [
    "nb = NaiveBayes(smoothing = 1.0, modelType=\"multinomial\")"
   ]
  },
  {
   "cell_type": "code",
   "execution_count": 8,
   "metadata": {},
   "outputs": [
    {
     "name": "stdout",
     "output_type": "stream",
     "text": [
      "CPU times: user 9.82 ms, sys: 3.35 ms, total: 13.2 ms\n",
      "Wall time: 6.81 s\n"
     ]
    }
   ],
   "source": [
    "%%time\n",
    "model = nb.fit(train)"
   ]
  },
  {
   "cell_type": "code",
   "execution_count": 9,
   "metadata": {},
   "outputs": [],
   "source": [
    "\"\"\"model_predictions = []\n",
    "\n",
    "for i in lst_model:\n",
    "    predictions = i.transform(val)\n",
    "    model_predictions.append(predictions)\"\"\"\n",
    "predictions = model.transform(test)"
   ]
  },
  {
   "cell_type": "code",
   "execution_count": 10,
   "metadata": {},
   "outputs": [
    {
     "name": "stdout",
     "output_type": "stream",
     "text": [
      "F1 score for given DataFrame: 72.1\n",
      "\n",
      "Accuracy on given DataFrame: 71.9%\n",
      "\n",
      "                Predictions\n",
      "            negative    neutral     positive    \n",
      "negative    2552        415         1164        \n",
      "neutral     407         356         716         \n",
      "positive    1008        900         8875        \n",
      "(True labels are on the side)\n",
      "\n",
      "Class     | Precision | Recall    | F1-score\n",
      "negative    64.3        61.8        63.0        \n",
      "neutral     21.3        24.1        22.6        \n",
      "positive    82.5        82.3        82.4        \n",
      "\n"
     ]
    }
   ],
   "source": [
    "test_m = Metrics()\n",
    "test_fitting_check = model.transform(test).select('prediction', 'label')\n",
    "test_m.f1(test_fitting_check)\n",
    "test_m.accuracy(test_fitting_check)\n",
    "test_m.confusion_matrix(test_fitting_check)\n",
    "test_m.performance(test_fitting_check)"
   ]
  },
  {
   "cell_type": "code",
   "execution_count": 11,
   "metadata": {},
   "outputs": [
    {
     "data": {
      "text/plain": [
       "'train_m = Metrics()\\ntrain_m.f1(model_predictions[0])\\ntrain_m.f1(model_predictions[1])\\ntrain_m.f1(model_predictions[2])\\ntrain_m.f1(model_predictions[3])\\ntrain_m.f1(model_predictions[4])'"
      ]
     },
     "execution_count": 11,
     "metadata": {},
     "output_type": "execute_result"
    }
   ],
   "source": [
    "\"\"\"train_m = Metrics()\n",
    "train_m.f1(model_predictions[0])\n",
    "train_m.f1(model_predictions[1])\n",
    "train_m.f1(model_predictions[2])\n",
    "train_m.f1(model_predictions[3])\n",
    "train_m.f1(model_predictions[4])\"\"\""
   ]
  },
  {
   "cell_type": "code",
   "execution_count": null,
   "metadata": {},
   "outputs": [],
   "source": []
  },
  {
   "cell_type": "code",
   "execution_count": null,
   "metadata": {},
   "outputs": [],
   "source": []
  },
  {
   "cell_type": "code",
   "execution_count": null,
   "metadata": {},
   "outputs": [],
   "source": []
  }
 ],
 "metadata": {
  "kernelspec": {
   "display_name": "Python 3",
   "language": "python",
   "name": "python3"
  },
  "language_info": {
   "codemirror_mode": {
    "name": "ipython",
    "version": 3
   },
   "file_extension": ".py",
   "mimetype": "text/x-python",
   "name": "python",
   "nbconvert_exporter": "python",
   "pygments_lexer": "ipython3",
   "version": "3.8.3"
  }
 },
 "nbformat": 4,
 "nbformat_minor": 4
}

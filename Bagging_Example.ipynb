{
 "cells": [
  {
   "cell_type": "code",
   "execution_count": 1,
   "metadata": {},
   "outputs": [],
   "source": [
    "from pyspark.sql import SparkSession\n",
    "\n",
    "spark = SparkSession \\\n",
    "    .builder \\\n",
    "    .master(\"local[*]\") \\\n",
    "    .appName(\"CW\") \\\n",
    "    .getOrCreate()\n",
    "\n",
    "sc = spark.sparkContext"
   ]
  },
  {
   "cell_type": "code",
   "execution_count": 2,
   "metadata": {},
   "outputs": [
    {
     "data": {
      "text/html": [
       "\n",
       "        <div>\n",
       "            <p><b>SparkContext</b></p>\n",
       "\n",
       "            <p><a href=\"http://sachins-mbp.home:4040\">Spark UI</a></p>\n",
       "\n",
       "            <dl>\n",
       "              <dt>Version</dt>\n",
       "                <dd><code>v3.1.1</code></dd>\n",
       "              <dt>Master</dt>\n",
       "                <dd><code>local[*]</code></dd>\n",
       "              <dt>AppName</dt>\n",
       "                <dd><code>CW</code></dd>\n",
       "            </dl>\n",
       "        </div>\n",
       "        "
      ],
      "text/plain": [
       "<SparkContext master=local[*] appName=CW>"
      ]
     },
     "execution_count": 2,
     "metadata": {},
     "output_type": "execute_result"
    }
   ],
   "source": [
    "sc"
   ]
  },
  {
   "cell_type": "code",
   "execution_count": 3,
   "metadata": {},
   "outputs": [],
   "source": [
    "from time import time\n",
    "from preprocessing.Preprocessor import Preprocessor\n",
    "from pyspark.ml.classification import NaiveBayes\n",
    "from pyspark.ml.evaluation import MulticlassClassificationEvaluator\n",
    "from metrics.metrics import Metrics\n",
    "from pyspark.ml.classification import MultilayerPerceptronClassifier\n",
    "from pyspark.ml.classification import LogisticRegression\n",
    "import pyspark.sql.functions as F\n",
    "from pyspark.sql.window import Window\n",
    "from pyspark.sql.functions import row_number"
   ]
  },
  {
   "cell_type": "code",
   "execution_count": 4,
   "metadata": {},
   "outputs": [],
   "source": [
    "pp = Preprocessor(spark)"
   ]
  },
  {
   "cell_type": "code",
   "execution_count": 5,
   "metadata": {},
   "outputs": [
    {
     "data": {
      "text/plain": [
       "DataFrame[features: vector, label: int]"
      ]
     },
     "execution_count": 5,
     "metadata": {},
     "output_type": "execute_result"
    }
   ],
   "source": [
    "train = pp.to_tfidf('Cleaned Data/train.csv', min_frequency=275., remove_stop_words = False)\n",
    "\n",
    "train_lr = train.sample(True, 0.6)\n",
    "train_lr.cache()\n",
    "\n",
    "train_nb = train.sample(True, 0.6)\n",
    "train_nb.cache()\n",
    "\n",
    "train_neurnet = train.sample(True, 0.6)\n",
    "train_neurnet.cache()"
   ]
  },
  {
   "cell_type": "code",
   "execution_count": 6,
   "metadata": {},
   "outputs": [
    {
     "data": {
      "text/plain": [
       "16393"
      ]
     },
     "execution_count": 6,
     "metadata": {},
     "output_type": "execute_result"
    }
   ],
   "source": [
    "test = pp.to_tfidf('Cleaned Data/test.csv')\n",
    "test.cache()\n",
    "test.count()"
   ]
  },
  {
   "cell_type": "code",
   "execution_count": 7,
   "metadata": {},
   "outputs": [
    {
     "data": {
      "text/plain": [
       "\"test = test.dropDuplicates(['features'])\\ntest.count()\""
      ]
     },
     "execution_count": 7,
     "metadata": {},
     "output_type": "execute_result"
    }
   ],
   "source": [
    "\"\"\"test = test.dropDuplicates(['features'])\n",
    "test.count()\"\"\""
   ]
  },
  {
   "cell_type": "code",
   "execution_count": 8,
   "metadata": {},
   "outputs": [],
   "source": [
    "nb = NaiveBayes(smoothing = 1.0, modelType=\"multinomial\")\n",
    "model_nb = nb.fit(train_nb)\n",
    "\n",
    "nn = MultilayerPerceptronClassifier(layers=[1948, 64, 3], blockSize=32, seed=99)\n",
    "model_nn = nn.fit(train_neurnet)\n",
    "\n",
    "lr = LogisticRegression(maxIter=100, aggregationDepth = 2, elasticNetParam=0)\n",
    "model_lr = lr.fit(train_lr)"
   ]
  },
  {
   "cell_type": "code",
   "execution_count": 31,
   "metadata": {},
   "outputs": [
    {
     "name": "stdout",
     "output_type": "stream",
     "text": [
      "+--------------------+-------------+--------+\n",
      "|            features|prediction_nb|label_nb|\n",
      "+--------------------+-------------+--------+\n",
      "|(1948,[0,1,2,3,4,...|          2.0|       1|\n",
      "|(1948,[0,1,2,3,4,...|          1.0|       2|\n",
      "|(1948,[0,1,2,3,4,...|          2.0|       2|\n",
      "|(1948,[5,22,40,66...|          0.0|       0|\n",
      "|(1948,[0,1,2,3,4,...|          1.0|       2|\n",
      "+--------------------+-------------+--------+\n",
      "only showing top 5 rows\n",
      "\n",
      "F1 score for given DataFrame: 70.0\n",
      "\n"
     ]
    },
    {
     "data": {
      "text/plain": [
       "15854"
      ]
     },
     "execution_count": 31,
     "metadata": {},
     "output_type": "execute_result"
    }
   ],
   "source": [
    "test_nb = model_nb.transform(test).select('features','prediction', 'label')\n",
    "test_nb_update = test_nb.withColumnRenamed(\"prediction\",\"prediction_nb\")\n",
    "test_nb_update = test_nb_update.withColumnRenamed(\"label\",\"label_nb\")\n",
    "#test_nb_update = test_nb_update.withColumnRenamed(\"features\",\"features_nb\")\n",
    "test_nb_update = test_nb_update.dropDuplicates([\"features\"])\n",
    "\n",
    "test_nb_update.show(5)\n",
    "test_m = Metrics()\n",
    "test_m.f1(test_nb)\n",
    "test_nb_update.count()"
   ]
  },
  {
   "cell_type": "code",
   "execution_count": 32,
   "metadata": {},
   "outputs": [
    {
     "name": "stdout",
     "output_type": "stream",
     "text": [
      "+--------------------+-------------+--------+\n",
      "|            features|prediction_nn|label_nn|\n",
      "+--------------------+-------------+--------+\n",
      "|(1948,[0,1,3,7,8,...|          2.0|       2|\n",
      "|(1948,[0,1,2,3,4,...|          2.0|       2|\n",
      "|(1948,[0,1,2,3,4,...|          2.0|       1|\n",
      "|(1948,[0,2,3,4,5,...|          2.0|       2|\n",
      "|(1948,[0,1,2,4,5,...|          2.0|       2|\n",
      "+--------------------+-------------+--------+\n",
      "only showing top 5 rows\n",
      "\n",
      "F1 score for given DataFrame: 78.0\n",
      "\n"
     ]
    },
    {
     "data": {
      "text/plain": [
       "16393"
      ]
     },
     "execution_count": 32,
     "metadata": {},
     "output_type": "execute_result"
    }
   ],
   "source": [
    "test_nn = model_nn.transform(test).select('features','prediction', 'label')\n",
    "test_nn_update = test_nn.withColumnRenamed(\"prediction\",\"prediction_nn\")\n",
    "test_nn_update = test_nn_update.withColumnRenamed(\"label\",\"label_nn\")\n",
    "#test_nn_update = test_nn_update.withColumnRenamed(\"features\",\"features_nn\")\n",
    "\n",
    "test_nn_update.show(5)\n",
    "test_m.f1(test_nn)\n",
    "test_nn_update.count()"
   ]
  },
  {
   "cell_type": "code",
   "execution_count": 34,
   "metadata": {},
   "outputs": [
    {
     "name": "stdout",
     "output_type": "stream",
     "text": [
      "+--------------------+-------------+--------+\n",
      "|            features|prediction_lr|label_lr|\n",
      "+--------------------+-------------+--------+\n",
      "|(1948,[0,1,2,3,4,...|          2.0|       1|\n",
      "|(1948,[0,1,2,3,4,...|          2.0|       2|\n",
      "|(1948,[0,1,2,3,4,...|          2.0|       2|\n",
      "|(1948,[5,22,40,66...|          0.0|       0|\n",
      "|(1948,[0,1,2,3,4,...|          2.0|       2|\n",
      "+--------------------+-------------+--------+\n",
      "only showing top 5 rows\n",
      "\n",
      "F1 score for given DataFrame: 75.2\n",
      "\n"
     ]
    },
    {
     "data": {
      "text/plain": [
       "15854"
      ]
     },
     "execution_count": 34,
     "metadata": {},
     "output_type": "execute_result"
    }
   ],
   "source": [
    "test_lr = model_lr.transform(test).select('features','prediction', 'label')\n",
    "test_lr_update = test_lr.withColumnRenamed(\"prediction\",\"prediction_lr\")\n",
    "test_lr_update = test_lr_update.withColumnRenamed(\"label\",\"label_lr\")\n",
    "#test_lr_update = test_lr_update.withColumnRenamed(\"features\",\"features_lr\")\n",
    "test_lr_update = test_lr_update.dropDuplicates([\"features\"])\n",
    "\n",
    "test_lr_update.show(5)\n",
    "test_m.f1(test_lr)\n",
    "test_lr_update.count()"
   ]
  },
  {
   "cell_type": "code",
   "execution_count": 35,
   "metadata": {},
   "outputs": [
    {
     "name": "stdout",
     "output_type": "stream",
     "text": [
      "+--------------------+-------------+--------+-------------+--------+\n",
      "|            features|prediction_nn|label_nn|prediction_lr|label_lr|\n",
      "+--------------------+-------------+--------+-------------+--------+\n",
      "|(1948,[0,1,2,3,4,...|          2.0|       2|          2.0|       2|\n",
      "|(1948,[0,1,2,3,4,...|          2.0|       2|          2.0|       2|\n",
      "|(1948,[0,1,2,3,4,...|          0.0|       0|          0.0|       0|\n",
      "|(1948,[0,1,2,3,4,...|          2.0|       2|          2.0|       2|\n",
      "|(1948,[0,1,2,3,4,...|          1.0|       1|          0.0|       1|\n",
      "|(1948,[0,1,2,3,4,...|          2.0|       2|          1.0|       2|\n",
      "|(1948,[0,1,2,3,4,...|          0.0|       0|          2.0|       0|\n",
      "|(1948,[0,1,2,3,4,...|          2.0|       2|          2.0|       2|\n",
      "|(1948,[0,1,2,3,4,...|          2.0|       2|          2.0|       2|\n",
      "|(1948,[0,1,2,3,4,...|          0.0|       2|          2.0|       2|\n",
      "|(1948,[0,1,2,3,4,...|          0.0|       2|          0.0|       2|\n",
      "|(1948,[0,1,2,3,4,...|          0.0|       0|          2.0|       0|\n",
      "|(1948,[0,1,2,3,4,...|          2.0|       1|          1.0|       1|\n",
      "|(1948,[0,1,2,3,4,...|          0.0|       2|          0.0|       2|\n",
      "|(1948,[0,1,2,3,4,...|          1.0|       1|          1.0|       1|\n",
      "|(1948,[0,1,2,3,4,...|          2.0|       2|          2.0|       2|\n",
      "|(1948,[0,1,2,3,4,...|          1.0|       2|          2.0|       2|\n",
      "|(1948,[0,1,2,3,4,...|          2.0|       2|          2.0|       2|\n",
      "|(1948,[0,1,2,3,4,...|          2.0|       2|          2.0|       2|\n",
      "|(1948,[0,1,2,3,4,...|          2.0|       2|          2.0|       2|\n",
      "+--------------------+-------------+--------+-------------+--------+\n",
      "only showing top 20 rows\n",
      "\n"
     ]
    },
    {
     "data": {
      "text/plain": [
       "16393"
      ]
     },
     "execution_count": 35,
     "metadata": {},
     "output_type": "execute_result"
    }
   ],
   "source": [
    "test_voting = test_nn_update.join(test_lr_update, [\"features\"])\n",
    "test_voting.show()\n",
    "test_voting.count()"
   ]
  },
  {
   "cell_type": "code",
   "execution_count": 36,
   "metadata": {},
   "outputs": [
    {
     "name": "stdout",
     "output_type": "stream",
     "text": [
      "+--------------------+-------------+--------+-------------+--------+-------------+--------+\n",
      "|            features|prediction_nn|label_nn|prediction_lr|label_lr|prediction_nb|label_nb|\n",
      "+--------------------+-------------+--------+-------------+--------+-------------+--------+\n",
      "|(1948,[0,1,2,3,4,...|          2.0|       2|          2.0|       2|          2.0|       2|\n",
      "|(1948,[0,1,2,3,4,...|          2.0|       2|          2.0|       2|          1.0|       2|\n",
      "|(1948,[0,1,2,3,4,...|          0.0|       0|          0.0|       0|          0.0|       0|\n",
      "|(1948,[0,1,2,3,4,...|          2.0|       2|          2.0|       2|          2.0|       2|\n",
      "|(1948,[0,1,2,3,4,...|          1.0|       1|          0.0|       1|          1.0|       1|\n",
      "|(1948,[0,1,2,3,4,...|          2.0|       2|          1.0|       2|          1.0|       2|\n",
      "|(1948,[0,1,2,3,4,...|          0.0|       0|          2.0|       0|          1.0|       0|\n",
      "|(1948,[0,1,2,3,4,...|          2.0|       2|          2.0|       2|          0.0|       2|\n",
      "|(1948,[0,1,2,3,4,...|          2.0|       2|          2.0|       2|          1.0|       2|\n",
      "|(1948,[0,1,2,3,4,...|          0.0|       2|          2.0|       2|          0.0|       2|\n",
      "|(1948,[0,1,2,3,4,...|          0.0|       2|          0.0|       2|          0.0|       2|\n",
      "|(1948,[0,1,2,3,4,...|          0.0|       0|          2.0|       0|          0.0|       0|\n",
      "|(1948,[0,1,2,3,4,...|          2.0|       1|          1.0|       1|          0.0|       1|\n",
      "|(1948,[0,1,2,3,4,...|          0.0|       2|          0.0|       2|          0.0|       2|\n",
      "|(1948,[0,1,2,3,4,...|          1.0|       1|          1.0|       1|          0.0|       1|\n",
      "|(1948,[0,1,2,3,4,...|          2.0|       2|          2.0|       2|          2.0|       2|\n",
      "|(1948,[0,1,2,3,4,...|          1.0|       2|          2.0|       2|          1.0|       2|\n",
      "|(1948,[0,1,2,3,4,...|          2.0|       2|          2.0|       2|          2.0|       2|\n",
      "|(1948,[0,1,2,3,4,...|          2.0|       2|          2.0|       2|          2.0|       2|\n",
      "|(1948,[0,1,2,3,4,...|          2.0|       2|          2.0|       2|          2.0|       2|\n",
      "+--------------------+-------------+--------+-------------+--------+-------------+--------+\n",
      "only showing top 20 rows\n",
      "\n"
     ]
    },
    {
     "data": {
      "text/plain": [
       "16393"
      ]
     },
     "execution_count": 36,
     "metadata": {},
     "output_type": "execute_result"
    }
   ],
   "source": [
    "test_voting = test_voting.join(test_nb_update, [\"features\"])\n",
    "test_voting.show()\n",
    "test_voting.count()"
   ]
  },
  {
   "cell_type": "code",
   "execution_count": 37,
   "metadata": {},
   "outputs": [],
   "source": [
    "test_voting = test_voting.drop(\"label_nn\",\"label_lr\")"
   ]
  },
  {
   "cell_type": "code",
   "execution_count": 38,
   "metadata": {},
   "outputs": [
    {
     "name": "stdout",
     "output_type": "stream",
     "text": [
      "+--------------------+-------------+-------------+-------------+--------+\n",
      "|            features|prediction_nn|prediction_lr|prediction_nb|label_nb|\n",
      "+--------------------+-------------+-------------+-------------+--------+\n",
      "|(1948,[0,1,2,3,4,...|          2.0|          2.0|          2.0|       2|\n",
      "|(1948,[0,1,2,3,4,...|          2.0|          2.0|          1.0|       2|\n",
      "|(1948,[0,1,2,3,4,...|          0.0|          0.0|          0.0|       0|\n",
      "|(1948,[0,1,2,3,4,...|          2.0|          2.0|          2.0|       2|\n",
      "|(1948,[0,1,2,3,4,...|          1.0|          0.0|          1.0|       1|\n",
      "+--------------------+-------------+-------------+-------------+--------+\n",
      "only showing top 5 rows\n",
      "\n"
     ]
    }
   ],
   "source": [
    "test_voting.show(5)"
   ]
  },
  {
   "cell_type": "code",
   "execution_count": 39,
   "metadata": {},
   "outputs": [],
   "source": [
    "test_voting = test_voting.withColumnRenamed(\"label_nb\",\"label\")"
   ]
  },
  {
   "cell_type": "code",
   "execution_count": 41,
   "metadata": {},
   "outputs": [
    {
     "name": "stdout",
     "output_type": "stream",
     "text": [
      "+--------------------+-------------+-------------+-------------+-----+\n",
      "|            features|prediction_nn|prediction_lr|prediction_nb|label|\n",
      "+--------------------+-------------+-------------+-------------+-----+\n",
      "|(1948,[0,1,2,3,4,...|          2.0|          2.0|          2.0|    2|\n",
      "|(1948,[0,1,2,3,4,...|          2.0|          2.0|          1.0|    2|\n",
      "|(1948,[0,1,2,3,4,...|          0.0|          0.0|          0.0|    0|\n",
      "|(1948,[0,1,2,3,4,...|          2.0|          2.0|          2.0|    2|\n",
      "|(1948,[0,1,2,3,4,...|          1.0|          0.0|          1.0|    1|\n",
      "+--------------------+-------------+-------------+-------------+-----+\n",
      "only showing top 5 rows\n",
      "\n"
     ]
    }
   ],
   "source": [
    "test_voting.show(5)"
   ]
  },
  {
   "cell_type": "code",
   "execution_count": 62,
   "metadata": {},
   "outputs": [],
   "source": [
    "from collections import Counter\n",
    "from pyspark.sql.functions import udf\n",
    "\n",
    "@udf\n",
    "def mode(*v):\n",
    "    counter = Counter(x for x in v if x is not None)\n",
    "    if len(counter) > 0:\n",
    "        return counter.most_common(1)[0][0]\n",
    "    else:\n",
    "        return None\n",
    "\n",
    "test_voting = test_voting.withColumn('prediction', mode('prediction_nn', 'prediction_lr', 'prediction_nb'))"
   ]
  },
  {
   "cell_type": "code",
   "execution_count": 43,
   "metadata": {},
   "outputs": [
    {
     "name": "stdout",
     "output_type": "stream",
     "text": [
      "root\n",
      " |-- features: vector (nullable = true)\n",
      " |-- prediction_nn: double (nullable = false)\n",
      " |-- prediction_lr: double (nullable = false)\n",
      " |-- prediction_nb: double (nullable = false)\n",
      " |-- label: integer (nullable = true)\n",
      " |-- prediction: string (nullable = true)\n",
      "\n"
     ]
    }
   ],
   "source": [
    "test_voting.printSchema()"
   ]
  },
  {
   "cell_type": "code",
   "execution_count": 44,
   "metadata": {},
   "outputs": [],
   "source": [
    "test_voting = test_voting.withColumn(\"prediction\",test_voting.prediction.cast('double'))"
   ]
  },
  {
   "cell_type": "code",
   "execution_count": 45,
   "metadata": {},
   "outputs": [
    {
     "name": "stdout",
     "output_type": "stream",
     "text": [
      "root\n",
      " |-- features: vector (nullable = true)\n",
      " |-- prediction_nn: double (nullable = false)\n",
      " |-- prediction_lr: double (nullable = false)\n",
      " |-- prediction_nb: double (nullable = false)\n",
      " |-- label: integer (nullable = true)\n",
      " |-- prediction: double (nullable = true)\n",
      "\n"
     ]
    }
   ],
   "source": [
    "test_voting.printSchema()"
   ]
  },
  {
   "cell_type": "code",
   "execution_count": 46,
   "metadata": {},
   "outputs": [
    {
     "name": "stdout",
     "output_type": "stream",
     "text": [
      "F1 score for given DataFrame: 77.3\n",
      "\n"
     ]
    }
   ],
   "source": [
    "test_m.f1(test_voting)"
   ]
  },
  {
   "cell_type": "code",
   "execution_count": null,
   "metadata": {},
   "outputs": [],
   "source": []
  }
 ],
 "metadata": {
  "kernelspec": {
   "display_name": "Python 3",
   "language": "python",
   "name": "python3"
  },
  "language_info": {
   "codemirror_mode": {
    "name": "ipython",
    "version": 3
   },
   "file_extension": ".py",
   "mimetype": "text/x-python",
   "name": "python",
   "nbconvert_exporter": "python",
   "pygments_lexer": "ipython3",
   "version": "3.8.3"
  }
 },
 "nbformat": 4,
 "nbformat_minor": 4
}

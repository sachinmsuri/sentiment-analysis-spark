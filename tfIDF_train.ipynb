{
 "cells": [
  {
   "cell_type": "code",
   "execution_count": 1,
   "metadata": {},
   "outputs": [],
   "source": [
    "from pyspark.sql import SparkSession\n",
    "\n",
    "spark = SparkSession \\\n",
    "    .builder \\\n",
    "    .master(\"local[*]\") \\\n",
    "    .appName(\"CW\") \\\n",
    "    .getOrCreate()\n",
    "\n",
    "sc = spark.sparkContext"
   ]
  },
  {
   "cell_type": "code",
   "execution_count": 2,
   "metadata": {},
   "outputs": [
    {
     "data": {
      "text/html": [
       "\n",
       "        <div>\n",
       "            <p><b>SparkContext</b></p>\n",
       "\n",
       "            <p><a href=\"http://sachins-mbp.home:4043\">Spark UI</a></p>\n",
       "\n",
       "            <dl>\n",
       "              <dt>Version</dt>\n",
       "                <dd><code>v3.1.1</code></dd>\n",
       "              <dt>Master</dt>\n",
       "                <dd><code>local[*]</code></dd>\n",
       "              <dt>AppName</dt>\n",
       "                <dd><code>CW</code></dd>\n",
       "            </dl>\n",
       "        </div>\n",
       "        "
      ],
      "text/plain": [
       "<SparkContext master=local[*] appName=CW>"
      ]
     },
     "execution_count": 2,
     "metadata": {},
     "output_type": "execute_result"
    }
   ],
   "source": [
    "sc"
   ]
  },
  {
   "cell_type": "code",
   "execution_count": 3,
   "metadata": {},
   "outputs": [],
   "source": [
    "from time import time\n",
    "from preprocessing.Preprocessor import Preprocessor"
   ]
  },
  {
   "cell_type": "code",
   "execution_count": 4,
   "metadata": {},
   "outputs": [],
   "source": [
    "pp = Preprocessor(spark)"
   ]
  },
  {
   "cell_type": "code",
   "execution_count": 5,
   "metadata": {},
   "outputs": [],
   "source": [
    "train = pp.to_tfidf('Cleaned Data/train.csv', min_frequency=275., remove_stop_words = True)\n",
    "val =  pp.to_tfidf('Cleaned Data/val.csv')"
   ]
  },
  {
   "cell_type": "code",
   "execution_count": 6,
   "metadata": {},
   "outputs": [],
   "source": [
    "#train = pp.balance_classes(train)"
   ]
  },
  {
   "cell_type": "code",
   "execution_count": 7,
   "metadata": {},
   "outputs": [
    {
     "data": {
      "text/plain": [
       "DataFrame[features: vector, label: int]"
      ]
     },
     "execution_count": 7,
     "metadata": {},
     "output_type": "execute_result"
    }
   ],
   "source": [
    "train.cache()\n",
    "val.cache()"
   ]
  },
  {
   "cell_type": "code",
   "execution_count": 8,
   "metadata": {},
   "outputs": [
    {
     "name": "stdout",
     "output_type": "stream",
     "text": [
      "+--------------------+-----+\n",
      "|            features|label|\n",
      "+--------------------+-----+\n",
      "|(1854,[0,1,3,12,1...|    2|\n",
      "|(1854,[3,13,74,89...|    0|\n",
      "|(1854,[0,9,10,19,...|    0|\n",
      "|(1854,[4,8,36,184...|    2|\n",
      "|(1854,[2,5,6,17,2...|    2|\n",
      "+--------------------+-----+\n",
      "only showing top 5 rows\n",
      "\n"
     ]
    }
   ],
   "source": [
    "train.show(5)"
   ]
  },
  {
   "cell_type": "code",
   "execution_count": 9,
   "metadata": {},
   "outputs": [
    {
     "name": "stdout",
     "output_type": "stream",
     "text": [
      "+--------------------+-----+\n",
      "|            features|label|\n",
      "+--------------------+-----+\n",
      "|(1854,[8,14,16,21...|    0|\n",
      "|(1854,[0,1,4,7,8,...|    2|\n",
      "|(1854,[0,1,3,6,10...|    0|\n",
      "|(1854,[0,2,3,6,7,...|    2|\n",
      "|(1854,[0,1,2,4,5,...|    2|\n",
      "+--------------------+-----+\n",
      "only showing top 5 rows\n",
      "\n"
     ]
    }
   ],
   "source": [
    "val.show(5)"
   ]
  },
  {
   "cell_type": "code",
   "execution_count": 10,
   "metadata": {},
   "outputs": [],
   "source": [
    "from pyspark.ml.classification import NaiveBayes\n",
    "from pyspark.ml.evaluation import MulticlassClassificationEvaluator"
   ]
  },
  {
   "cell_type": "code",
   "execution_count": 11,
   "metadata": {},
   "outputs": [],
   "source": [
    "\"\"\"lst_smooth = [0, 1.0, 100.0, 500, 1000]\n",
    "lst_model = []\n",
    "lst_model_transform = []\n",
    "\n",
    "\n",
    "for i in lst_smooth:\n",
    "    nb = NaiveBayes(smoothing=i, modelType=\"multinomial\")\n",
    "    model = nb.fit(train)\n",
    "    lst_model.append(model)\n",
    "    train_preds_and_labels = model.transform(train).select('prediction', 'label')\n",
    "    lst_model_transform.append(train_preds_and_labels)\"\"\"\n",
    "    \n",
    "    \n",
    "nb = NaiveBayes(smoothing = 1.0, modelType=\"multinomial\")\n",
    "model = nb.fit(train)\n",
    "train_fitting_check = model.transform(train).select('prediction', 'label')"
   ]
  },
  {
   "cell_type": "code",
   "execution_count": 12,
   "metadata": {},
   "outputs": [
    {
     "name": "stdout",
     "output_type": "stream",
     "text": [
      "F1 score for given DataFrame: 70.6\n",
      "\n",
      "Accuracy on given DataFrame: 68.1%\n",
      "\n",
      "                Predictions\n",
      "            negative    neutral     positive    \n",
      "negative    17843       4778        5726        \n",
      "neutral     2621        4401        3300        \n",
      "positive    8023        12119       55959       \n",
      "(True labels are on the side)\n",
      "\n",
      "Class     | Precision | Recall    | F1-score\n",
      "negative    62.6        62.9        62.8        \n",
      "neutral     20.7        42.6        27.8        \n",
      "positive    86.1        73.5        79.3        \n",
      "\n"
     ]
    }
   ],
   "source": [
    "\"\"\"train_m = Metrics()\n",
    "for i in lst_model_transform:\n",
    "    train_m.f1(i)\n",
    "    train_m.accuracy(i)\n",
    "    train_m.confusion_matrix(i)\n",
    "    train_m.performance(i)\n",
    "    \"\"\"\n",
    "\n",
    "from metrics.metrics import Metrics\n",
    "train_m = Metrics()\n",
    "train_m.f1(train_fitting_check)\n",
    "train_m.accuracy(train_fitting_check)\n",
    "train_m.confusion_matrix(train_fitting_check)\n",
    "train_m.performance(train_fitting_check)"
   ]
  },
  {
   "cell_type": "code",
   "execution_count": 13,
   "metadata": {},
   "outputs": [],
   "source": [
    "#print(lst_model)"
   ]
  },
  {
   "cell_type": "code",
   "execution_count": 14,
   "metadata": {},
   "outputs": [],
   "source": [
    "\"\"\"model_predictions = []\n",
    "\n",
    "for i in lst_model:\n",
    "    predictions = i.transform(val)\n",
    "    model_predictions.append(predictions)\"\"\"\n",
    "predictions = model.transform(val)"
   ]
  },
  {
   "cell_type": "code",
   "execution_count": 15,
   "metadata": {},
   "outputs": [
    {
     "name": "stdout",
     "output_type": "stream",
     "text": [
      "Test set accuracy = 0.6770328363669624\n"
     ]
    }
   ],
   "source": [
    "\"\"\"for i in model_predictions:\n",
    "    evaluator = MulticlassClassificationEvaluator(labelCol=\"label\", predictionCol=\"prediction\",\n",
    "                                              metricName=\"accuracy\")\n",
    "    accuracy = evaluator.evaluate(i)\n",
    "    print(\"Test set accuracy = \" + str(accuracy))\"\"\"\n",
    "\n",
    "evaluator = MulticlassClassificationEvaluator(labelCol = \"label\", predictionCol=\"prediction\", metricName = \"accuracy\")\n",
    "accuracy = evaluator.evaluate(predictions)\n",
    "print(\"Test set accuracy = \" + str(accuracy))"
   ]
  },
  {
   "cell_type": "code",
   "execution_count": 16,
   "metadata": {},
   "outputs": [
    {
     "name": "stdout",
     "output_type": "stream",
     "text": [
      "F1 score for given DataFrame: 70.2\n",
      "\n",
      "Accuracy on given DataFrame: 67.7%\n",
      "\n",
      "                Predictions\n",
      "            negative    neutral     positive    \n",
      "negative    5110        1401        1756        \n",
      "neutral     742         1146        927         \n",
      "positive    2371        3396        15950       \n",
      "(True labels are on the side)\n",
      "\n",
      "Class     | Precision | Recall    | F1-score\n",
      "negative    62.1        61.8        62.0        \n",
      "neutral     19.3        40.7        26.2        \n",
      "positive    85.6        73.4        79.1        \n",
      "\n"
     ]
    }
   ],
   "source": [
    "val_m = Metrics()\n",
    "val_fitting_check = model.transform(val).select('prediction', 'label')\n",
    "val_m.f1(val_fitting_check)\n",
    "val_m.accuracy(val_fitting_check)\n",
    "val_m.confusion_matrix(val_fitting_check)\n",
    "val_m.performance(val_fitting_check)"
   ]
  },
  {
   "cell_type": "code",
   "execution_count": 17,
   "metadata": {},
   "outputs": [
    {
     "data": {
      "text/plain": [
       "'train_m = Metrics()\\ntrain_m.f1(model_predictions[0])\\ntrain_m.f1(model_predictions[1])\\ntrain_m.f1(model_predictions[2])\\ntrain_m.f1(model_predictions[3])\\ntrain_m.f1(model_predictions[4])'"
      ]
     },
     "execution_count": 17,
     "metadata": {},
     "output_type": "execute_result"
    }
   ],
   "source": [
    "\"\"\"train_m = Metrics()\n",
    "train_m.f1(model_predictions[0])\n",
    "train_m.f1(model_predictions[1])\n",
    "train_m.f1(model_predictions[2])\n",
    "train_m.f1(model_predictions[3])\n",
    "train_m.f1(model_predictions[4])\"\"\""
   ]
  },
  {
   "cell_type": "code",
   "execution_count": null,
   "metadata": {},
   "outputs": [],
   "source": []
  },
  {
   "cell_type": "code",
   "execution_count": null,
   "metadata": {},
   "outputs": [],
   "source": []
  },
  {
   "cell_type": "code",
   "execution_count": null,
   "metadata": {},
   "outputs": [],
   "source": []
  }
 ],
 "metadata": {
  "kernelspec": {
   "display_name": "Python 3",
   "language": "python",
   "name": "python3"
  },
  "language_info": {
   "codemirror_mode": {
    "name": "ipython",
    "version": 3
   },
   "file_extension": ".py",
   "mimetype": "text/x-python",
   "name": "python",
   "nbconvert_exporter": "python",
   "pygments_lexer": "ipython3",
   "version": "3.8.3"
  }
 },
 "nbformat": 4,
 "nbformat_minor": 4
}

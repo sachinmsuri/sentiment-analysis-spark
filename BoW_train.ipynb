{
 "cells": [
  {
   "cell_type": "code",
   "execution_count": 1,
   "metadata": {},
   "outputs": [],
   "source": [
    "from pyspark.sql import SparkSession\n",
    "\n",
    "spark = SparkSession \\\n",
    "    .builder \\\n",
    "    .master(\"local[*]\") \\\n",
    "    .appName(\"CW2\") \\\n",
    "    .getOrCreate()\n",
    "\n",
    "sc = spark.sparkContext"
   ]
  },
  {
   "cell_type": "code",
   "execution_count": 2,
   "metadata": {},
   "outputs": [
    {
     "data": {
      "text/html": [
       "\n",
       "        <div>\n",
       "            <p><b>SparkContext</b></p>\n",
       "\n",
       "            <p><a href=\"http://sachins-mbp.home:4042\">Spark UI</a></p>\n",
       "\n",
       "            <dl>\n",
       "              <dt>Version</dt>\n",
       "                <dd><code>v3.1.1</code></dd>\n",
       "              <dt>Master</dt>\n",
       "                <dd><code>local[*]</code></dd>\n",
       "              <dt>AppName</dt>\n",
       "                <dd><code>CW2</code></dd>\n",
       "            </dl>\n",
       "        </div>\n",
       "        "
      ],
      "text/plain": [
       "<SparkContext master=local[*] appName=CW2>"
      ]
     },
     "execution_count": 2,
     "metadata": {},
     "output_type": "execute_result"
    }
   ],
   "source": [
    "sc"
   ]
  },
  {
   "cell_type": "code",
   "execution_count": 3,
   "metadata": {},
   "outputs": [],
   "source": [
    "from time import time\n",
    "from preprocessing.Preprocessor import Preprocessor"
   ]
  },
  {
   "cell_type": "code",
   "execution_count": 4,
   "metadata": {},
   "outputs": [
    {
     "data": {
      "text/plain": [
       "'/Users/sachinsuri/CW - Sentiment Analysis (NLP)'"
      ]
     },
     "execution_count": 4,
     "metadata": {},
     "output_type": "execute_result"
    }
   ],
   "source": [
    "import os\n",
    "os.path.abspath(os.getcwd())"
   ]
  },
  {
   "cell_type": "code",
   "execution_count": 5,
   "metadata": {},
   "outputs": [],
   "source": [
    "pp = Preprocessor(spark)"
   ]
  },
  {
   "cell_type": "code",
   "execution_count": 6,
   "metadata": {},
   "outputs": [],
   "source": [
    "train = pp.to_bow('Cleaned Data/train.csv', min_frequency=275., remove_stop_words = True)\n",
    "val =  pp.to_bow('Cleaned Data/val.csv')"
   ]
  },
  {
   "cell_type": "code",
   "execution_count": 7,
   "metadata": {},
   "outputs": [],
   "source": [
    "#train = pp.balance_classes(train)"
   ]
  },
  {
   "cell_type": "code",
   "execution_count": 7,
   "metadata": {},
   "outputs": [
    {
     "data": {
      "text/plain": [
       "DataFrame[features: vector, label: int]"
      ]
     },
     "execution_count": 7,
     "metadata": {},
     "output_type": "execute_result"
    }
   ],
   "source": [
    "train.cache()\n",
    "val.cache()"
   ]
  },
  {
   "cell_type": "code",
   "execution_count": 8,
   "metadata": {},
   "outputs": [
    {
     "name": "stdout",
     "output_type": "stream",
     "text": [
      "+--------------------+-----+\n",
      "|            features|label|\n",
      "+--------------------+-----+\n",
      "|(1854,[0,1,3,12,1...|    2|\n",
      "|(1854,[3,13,74,89...|    0|\n",
      "|(1854,[0,9,10,19,...|    0|\n",
      "|(1854,[4,8,36,184...|    2|\n",
      "|(1854,[2,5,6,17,2...|    2|\n",
      "+--------------------+-----+\n",
      "only showing top 5 rows\n",
      "\n"
     ]
    }
   ],
   "source": [
    "train.show(5)"
   ]
  },
  {
   "cell_type": "code",
   "execution_count": 9,
   "metadata": {},
   "outputs": [
    {
     "name": "stdout",
     "output_type": "stream",
     "text": [
      "+--------------------+-----+\n",
      "|            features|label|\n",
      "+--------------------+-----+\n",
      "|(1854,[8,14,16,21...|    0|\n",
      "|(1854,[0,1,4,7,8,...|    2|\n",
      "|(1854,[0,1,3,6,10...|    0|\n",
      "|(1854,[0,2,3,6,7,...|    2|\n",
      "|(1854,[0,1,2,4,5,...|    2|\n",
      "+--------------------+-----+\n",
      "only showing top 5 rows\n",
      "\n"
     ]
    }
   ],
   "source": [
    "val.show(5)"
   ]
  },
  {
   "cell_type": "code",
   "execution_count": 10,
   "metadata": {},
   "outputs": [],
   "source": [
    "from pyspark.ml.classification import NaiveBayes\n",
    "from pyspark.ml.evaluation import MulticlassClassificationEvaluator"
   ]
  },
  {
   "cell_type": "code",
   "execution_count": 11,
   "metadata": {},
   "outputs": [
    {
     "data": {
      "text/plain": [
       "'nb = NaiveBayes(smoothing = 1.0, modelType=\"multinomial\")\\nmodel = nb.fit(train)\\ntrain_fitting_check = model.transform(train).select(\\'prediction\\', \\'label\\')'"
      ]
     },
     "execution_count": 11,
     "metadata": {},
     "output_type": "execute_result"
    }
   ],
   "source": [
    "lst_smooth = [0, 1.0, 100.0, 500, 1000]\n",
    "lst_model = []\n",
    "\"\"\"lst_model_transform = []\"\"\"\n",
    "\n",
    "\n",
    "for i in lst_smooth:\n",
    "    nb = NaiveBayes(smoothing=i, modelType=\"multinomial\")\n",
    "    model = nb.fit(train)\n",
    "    lst_model.append(model)\n",
    "    \"\"\"train_preds_and_labels = model.transform(train).select('prediction', 'label')\n",
    "    lst_model_transform.append(train_preds_and_labels)\"\"\"\n",
    "    \n",
    "    \n",
    "\"\"\"nb = NaiveBayes(smoothing = 1.0, modelType=\"multinomial\")\n",
    "model = nb.fit(train)\n",
    "train_fitting_check = model.transform(train).select('prediction', 'label')\"\"\""
   ]
  },
  {
   "cell_type": "code",
   "execution_count": 12,
   "metadata": {},
   "outputs": [
    {
     "name": "stdout",
     "output_type": "stream",
     "text": [
      "[NaiveBayesModel: uid=NaiveBayes_7b4b61ea4b05, modelType=multinomial, numClasses=3, numFeatures=1854, NaiveBayesModel: uid=NaiveBayes_9045edfb5212, modelType=multinomial, numClasses=3, numFeatures=1854, NaiveBayesModel: uid=NaiveBayes_246724241068, modelType=multinomial, numClasses=3, numFeatures=1854, NaiveBayesModel: uid=NaiveBayes_6c125e7a81a8, modelType=multinomial, numClasses=3, numFeatures=1854, NaiveBayesModel: uid=NaiveBayes_e6a1cfe346f5, modelType=multinomial, numClasses=3, numFeatures=1854]\n"
     ]
    }
   ],
   "source": [
    "print(lst_model)"
   ]
  },
  {
   "cell_type": "code",
   "execution_count": 13,
   "metadata": {},
   "outputs": [
    {
     "name": "stdout",
     "output_type": "stream",
     "text": [
      "F1 score for given DataFrame: 72.7\n",
      "\n",
      "Accuracy on given DataFrame: 72.6%\n",
      "\n",
      "                Predictions\n",
      "            negative    neutral     positive    \n",
      "negative    17724       2215        8408        \n",
      "neutral     2903        2546        4873        \n",
      "positive    7042        5966        63093       \n",
      "(True labels are on the side)\n",
      "\n",
      "Class     | Precision | Recall    | F1-score\n",
      "negative    64.1        62.5        63.3        \n",
      "neutral     23.7        24.7        24.2        \n",
      "positive    82.6        82.9        82.8        \n",
      "\n"
     ]
    }
   ],
   "source": [
    "train_m = Metrics()\n",
    "for i in lst_model_transform:\n",
    "    train_m.f1(i)\n",
    "    \n",
    "\"\"\"from metrics.metrics import Metrics\n",
    "train_m = Metrics()\n",
    "train_m.f1(train_fitting_check)\n",
    "train_m.accuracy(train_fitting_check)\n",
    "train_m.confusion_matrix(train_fitting_check)\n",
    "train_m.performance(train_fitting_check)\"\"\""
   ]
  },
  {
   "cell_type": "code",
   "execution_count": 14,
   "metadata": {},
   "outputs": [],
   "source": [
    "#print(lst_model)"
   ]
  },
  {
   "cell_type": "code",
   "execution_count": 13,
   "metadata": {},
   "outputs": [
    {
     "data": {
      "text/plain": [
       "'predictions = model.transform(val)'"
      ]
     },
     "execution_count": 13,
     "metadata": {},
     "output_type": "execute_result"
    }
   ],
   "source": [
    "model_predictions = []\n",
    "\n",
    "for i in lst_model:\n",
    "    predictions = i.transform(val)\n",
    "    model_predictions.append(predictions)\n",
    "\"\"\"predictions = model.transform(val)\"\"\""
   ]
  },
  {
   "cell_type": "code",
   "execution_count": 16,
   "metadata": {},
   "outputs": [
    {
     "name": "stdout",
     "output_type": "stream",
     "text": [
      "Test set accuracy = 0.7243513521753712\n"
     ]
    }
   ],
   "source": [
    "\"\"\"for i in model_predictions:\n",
    "    evaluator = MulticlassClassificationEvaluator(labelCol=\"label\", predictionCol=\"prediction\",\n",
    "                                              metricName=\"accuracy\")\n",
    "    accuracy = evaluator.evaluate(i)\n",
    "    print(\"Test set accuracy = \" + str(accuracy))\"\"\"\n",
    "\n",
    "evaluator = MulticlassClassificationEvaluator(labelCol = \"label\", predictionCol=\"prediction\", metricName = \"accuracy\")\n",
    "accuracy = evaluator.evaluate(predictions)\n",
    "print(\"Test set accuracy = \" + str(accuracy))"
   ]
  },
  {
   "cell_type": "code",
   "execution_count": 17,
   "metadata": {},
   "outputs": [
    {
     "name": "stdout",
     "output_type": "stream",
     "text": [
      "F1 score for given DataFrame: 72.5\n",
      "\n",
      "Accuracy on given DataFrame: 72.4%\n",
      "\n",
      "                Predictions\n",
      "            negative    neutral     positive    \n",
      "negative    5125        650         2492        \n",
      "neutral     818         654         1343        \n",
      "positive    2030        1708        17979       \n",
      "(True labels are on the side)\n",
      "\n",
      "Class     | Precision | Recall    | F1-score\n",
      "negative    64.3        62.0        63.1        \n",
      "neutral     21.7        23.2        22.4        \n",
      "positive    82.4        82.8        82.6        \n",
      "\n"
     ]
    }
   ],
   "source": [
    "val_m = Metrics()\n",
    "val_fitting_check = model.transform(val).select('prediction', 'label')\n",
    "val_m.f1(val_fitting_check)\n",
    "val_m.accuracy(val_fitting_check)\n",
    "val_m.confusion_matrix(val_fitting_check)\n",
    "val_m.performance(val_fitting_check)"
   ]
  },
  {
   "cell_type": "code",
   "execution_count": 19,
   "metadata": {},
   "outputs": [
    {
     "name": "stdout",
     "output_type": "stream",
     "text": [
      "F1 score for given DataFrame: 72.5\n",
      "\n",
      "F1 score for given DataFrame: 72.5\n",
      "\n",
      "F1 score for given DataFrame: 71.5\n",
      "\n",
      "F1 score for given DataFrame: 60.7\n",
      "\n",
      "F1 score for given DataFrame: 54.5\n",
      "\n"
     ]
    }
   ],
   "source": [
    "from metrics.metrics import Metrics\n",
    "lst_evaluate_f1 = []\n",
    "val_m = Metrics()\n",
    "for i in model_predictions:\n",
    "    val_fit_check = val_m.f1(i.select('prediction','label'))\n",
    "    lst_evaluate_f1.append(val_fit_check)"
   ]
  },
  {
   "cell_type": "code",
   "execution_count": 17,
   "metadata": {},
   "outputs": [
    {
     "name": "stdout",
     "output_type": "stream",
     "text": [
      "DataFrame[prediction: double, label: int]\n",
      "DataFrame[prediction: double, label: int]\n",
      "DataFrame[prediction: double, label: int]\n",
      "DataFrame[prediction: double, label: int]\n",
      "DataFrame[prediction: double, label: int]\n"
     ]
    }
   ],
   "source": [
    "for i in lst_evaluate_f1:\n",
    "    print(i)"
   ]
  },
  {
   "cell_type": "code",
   "execution_count": null,
   "metadata": {},
   "outputs": [],
   "source": []
  },
  {
   "cell_type": "code",
   "execution_count": null,
   "metadata": {},
   "outputs": [],
   "source": []
  }
 ],
 "metadata": {
  "kernelspec": {
   "display_name": "Python 3",
   "language": "python",
   "name": "python3"
  },
  "language_info": {
   "codemirror_mode": {
    "name": "ipython",
    "version": 3
   },
   "file_extension": ".py",
   "mimetype": "text/x-python",
   "name": "python",
   "nbconvert_exporter": "python",
   "pygments_lexer": "ipython3",
   "version": "3.8.3"
  }
 },
 "nbformat": 4,
 "nbformat_minor": 4
}

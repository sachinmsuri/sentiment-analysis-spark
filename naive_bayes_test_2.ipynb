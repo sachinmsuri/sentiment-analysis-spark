{
 "cells": [
  {
   "cell_type": "code",
   "execution_count": 1,
   "metadata": {},
   "outputs": [],
   "source": [
    "from pyspark.sql import SparkSession\n",
    "\n",
    "spark = SparkSession \\\n",
    "    .builder \\\n",
    "    .master(\"local[*]\") \\\n",
    "    .appName(\"CW\") \\\n",
    "    .getOrCreate()\n",
    "\n",
    "sc = spark.sparkContext"
   ]
  },
  {
   "cell_type": "code",
   "execution_count": 2,
   "metadata": {},
   "outputs": [
    {
     "data": {
      "text/html": [
       "\n",
       "        <div>\n",
       "            <p><b>SparkContext</b></p>\n",
       "\n",
       "            <p><a href=\"http://sachins-mbp.home:4040\">Spark UI</a></p>\n",
       "\n",
       "            <dl>\n",
       "              <dt>Version</dt>\n",
       "                <dd><code>v3.1.1</code></dd>\n",
       "              <dt>Master</dt>\n",
       "                <dd><code>local[*]</code></dd>\n",
       "              <dt>AppName</dt>\n",
       "                <dd><code>CW</code></dd>\n",
       "            </dl>\n",
       "        </div>\n",
       "        "
      ],
      "text/plain": [
       "<SparkContext master=local[*] appName=CW>"
      ]
     },
     "execution_count": 2,
     "metadata": {},
     "output_type": "execute_result"
    }
   ],
   "source": [
    "sc"
   ]
  },
  {
   "cell_type": "code",
   "execution_count": 3,
   "metadata": {},
   "outputs": [],
   "source": [
    "from time import time\n",
    "from preprocessing.Preprocessor import Preprocessor"
   ]
  },
  {
   "cell_type": "code",
   "execution_count": 4,
   "metadata": {},
   "outputs": [],
   "source": [
    "pp = Preprocessor(spark)"
   ]
  },
  {
   "cell_type": "code",
   "execution_count": 5,
   "metadata": {},
   "outputs": [],
   "source": [
    "train = pp.to_bow('Cleaned Data/train.csv', min_frequency=275., remove_stop_words = False)\n",
    "train = train.sample(False, 0.3)\n",
    "test =  pp.to_bow('Cleaned Data/test.csv')"
   ]
  },
  {
   "cell_type": "code",
   "execution_count": 6,
   "metadata": {},
   "outputs": [],
   "source": [
    "#train = pp.balance_classes(train)"
   ]
  },
  {
   "cell_type": "code",
   "execution_count": 7,
   "metadata": {},
   "outputs": [
    {
     "data": {
      "text/plain": [
       "DataFrame[features: vector, label: int]"
      ]
     },
     "execution_count": 7,
     "metadata": {},
     "output_type": "execute_result"
    }
   ],
   "source": [
    "train.cache()\n",
    "test.cache()"
   ]
  },
  {
   "cell_type": "code",
   "execution_count": 8,
   "metadata": {},
   "outputs": [
    {
     "name": "stdout",
     "output_type": "stream",
     "text": [
      "+--------------------+-----+\n",
      "|            features|label|\n",
      "+--------------------+-----+\n",
      "|(1948,[0,1,3,4,5,...|    2|\n",
      "|(1948,[0,1,3,4,5,...|    0|\n",
      "|(1948,[0,1,2,3,5,...|    0|\n",
      "|(1948,[1,2,8,12,1...|    2|\n",
      "|(1948,[0,2,3,5,6,...|    2|\n",
      "+--------------------+-----+\n",
      "only showing top 5 rows\n",
      "\n"
     ]
    }
   ],
   "source": [
    "train.show(5)"
   ]
  },
  {
   "cell_type": "code",
   "execution_count": 9,
   "metadata": {},
   "outputs": [
    {
     "name": "stdout",
     "output_type": "stream",
     "text": [
      "+--------------------+-----+\n",
      "|            features|label|\n",
      "+--------------------+-----+\n",
      "|(1948,[0,1,3,7,8,...|    2|\n",
      "|(1948,[0,1,2,3,4,...|    2|\n",
      "|(1948,[0,1,2,3,4,...|    1|\n",
      "|(1948,[0,2,3,4,5,...|    2|\n",
      "|(1948,[0,1,2,4,5,...|    2|\n",
      "+--------------------+-----+\n",
      "only showing top 5 rows\n",
      "\n"
     ]
    }
   ],
   "source": [
    "test.show(5)"
   ]
  },
  {
   "cell_type": "code",
   "execution_count": 10,
   "metadata": {},
   "outputs": [],
   "source": [
    "from pyspark.ml.classification import NaiveBayes\n",
    "from pyspark.ml.evaluation import MulticlassClassificationEvaluator\n",
    "from metrics.metrics import Metrics"
   ]
  },
  {
   "cell_type": "code",
   "execution_count": 11,
   "metadata": {},
   "outputs": [
    {
     "data": {
      "text/plain": [
       "'lst_smooth = [0, 1.0, 100.0, 500, 1000]\\nlst_model = []\\nlst_model_transform = []\\n\\n\\nfor i in lst_smooth:\\n    nb = NaiveBayes(smoothing=i, modelType=\"multinomial\")\\n    model = nb.fit(train)\\n    lst_model.append(model)\\n    train_preds_and_labels = model.transform(train).select(\\'prediction\\', \\'label\\')\\n    lst_model_transform.append(train_preds_and_labels)'"
      ]
     },
     "execution_count": 11,
     "metadata": {},
     "output_type": "execute_result"
    }
   ],
   "source": [
    "\"\"\"lst_smooth = [0, 1.0, 100.0, 500, 1000]\n",
    "lst_model = []\n",
    "lst_model_transform = []\n",
    "\n",
    "\n",
    "for i in lst_smooth:\n",
    "    nb = NaiveBayes(smoothing=i, modelType=\"multinomial\")\n",
    "    model = nb.fit(train)\n",
    "    lst_model.append(model)\n",
    "    train_preds_and_labels = model.transform(train).select('prediction', 'label')\n",
    "    lst_model_transform.append(train_preds_and_labels)\"\"\""
   ]
  },
  {
   "cell_type": "code",
   "execution_count": 12,
   "metadata": {},
   "outputs": [],
   "source": [
    "nb = NaiveBayes(smoothing = 1.0, modelType=\"multinomial\")"
   ]
  },
  {
   "cell_type": "code",
   "execution_count": 13,
   "metadata": {},
   "outputs": [
    {
     "name": "stdout",
     "output_type": "stream",
     "text": [
      "CPU times: user 7.17 ms, sys: 2.4 ms, total: 9.57 ms\n",
      "Wall time: 3.23 s\n"
     ]
    }
   ],
   "source": [
    "%%time\n",
    "model = nb.fit(train)"
   ]
  },
  {
   "cell_type": "code",
   "execution_count": 14,
   "metadata": {},
   "outputs": [
    {
     "name": "stdout",
     "output_type": "stream",
     "text": [
      "F1 score for given DataFrame: 73.7\n",
      "\n",
      "Accuracy on given DataFrame: 73.5%\n",
      "\n",
      "                Predictions\n",
      "            negative    neutral     positive    \n",
      "negative    5597        615         2430        \n",
      "neutral     760         924         1371        \n",
      "positive    2177        1792        18874       \n",
      "(True labels are on the side)\n",
      "\n",
      "Class     | Precision | Recall    | F1-score\n",
      "negative    65.6        64.8        65.2        \n",
      "neutral     27.7        30.2        28.9        \n",
      "positive    83.2        82.6        82.9        \n",
      "\n"
     ]
    }
   ],
   "source": [
    "\"\"\"train_m = Metrics()\n",
    "for i in lst_model_transform:\n",
    "    train_m.f1(i)\n",
    "    train_m.accuracy(i)\n",
    "    train_m.confusion_matrix(i)\n",
    "    train_m.performance(i)\n",
    "    \"\"\"\n",
    "\n",
    "train_fitting_check = model.transform(train).select('prediction', 'label')\n",
    "train_m = Metrics()\n",
    "train_m.f1(train_fitting_check)\n",
    "train_m.accuracy(train_fitting_check)\n",
    "train_m.confusion_matrix(train_fitting_check)\n",
    "train_m.performance(train_fitting_check)"
   ]
  },
  {
   "cell_type": "code",
   "execution_count": 15,
   "metadata": {},
   "outputs": [],
   "source": [
    "#print(lst_model)"
   ]
  },
  {
   "cell_type": "code",
   "execution_count": 16,
   "metadata": {},
   "outputs": [],
   "source": [
    "\"\"\"model_predictions = []\n",
    "\n",
    "for i in lst_model:\n",
    "    predictions = i.transform(val)\n",
    "    model_predictions.append(predictions)\"\"\"\n",
    "predictions = model.transform(test)"
   ]
  },
  {
   "cell_type": "code",
   "execution_count": 17,
   "metadata": {},
   "outputs": [
    {
     "name": "stdout",
     "output_type": "stream",
     "text": [
      "Test set accuracy = 0.7185384005368145\n"
     ]
    }
   ],
   "source": [
    "\"\"\"for i in model_predictions:\n",
    "    evaluator = MulticlassClassificationEvaluator(labelCol=\"label\", predictionCol=\"prediction\",\n",
    "                                              metricName=\"accuracy\")\n",
    "    accuracy = evaluator.evaluate(i)\n",
    "    print(\"Test set accuracy = \" + str(accuracy))\"\"\"\n",
    "\n",
    "evaluator = MulticlassClassificationEvaluator(labelCol = \"label\", predictionCol=\"prediction\", metricName = \"accuracy\")\n",
    "accuracy = evaluator.evaluate(predictions)\n",
    "print(\"Test set accuracy = \" + str(accuracy))"
   ]
  },
  {
   "cell_type": "code",
   "execution_count": 18,
   "metadata": {},
   "outputs": [
    {
     "name": "stdout",
     "output_type": "stream",
     "text": [
      "F1 score for given DataFrame: 71.9\n",
      "\n",
      "Accuracy on given DataFrame: 71.9%\n",
      "\n",
      "                Predictions\n",
      "            negative    neutral     positive    \n",
      "negative    2557        384         1190        \n",
      "neutral     425         321         733         \n",
      "positive    1030        852         8901        \n",
      "(True labels are on the side)\n",
      "\n",
      "Class     | Precision | Recall    | F1-score\n",
      "negative    63.7        61.9        62.8        \n",
      "neutral     20.6        21.7        21.1        \n",
      "positive    82.2        82.5        82.4        \n",
      "\n"
     ]
    }
   ],
   "source": [
    "test_m = Metrics()\n",
    "test_fitting_check = model.transform(test).select('prediction', 'label')\n",
    "test_m.f1(test_fitting_check)\n",
    "test_m.accuracy(test_fitting_check)\n",
    "test_m.confusion_matrix(test_fitting_check)\n",
    "test_m.performance(test_fitting_check)"
   ]
  },
  {
   "cell_type": "code",
   "execution_count": 19,
   "metadata": {},
   "outputs": [
    {
     "data": {
      "text/plain": [
       "'train_m = Metrics()\\ntrain_m.f1(model_predictions[0])\\ntrain_m.f1(model_predictions[1])\\ntrain_m.f1(model_predictions[2])\\ntrain_m.f1(model_predictions[3])\\ntrain_m.f1(model_predictions[4])'"
      ]
     },
     "execution_count": 19,
     "metadata": {},
     "output_type": "execute_result"
    }
   ],
   "source": [
    "\"\"\"train_m = Metrics()\n",
    "train_m.f1(model_predictions[0])\n",
    "train_m.f1(model_predictions[1])\n",
    "train_m.f1(model_predictions[2])\n",
    "train_m.f1(model_predictions[3])\n",
    "train_m.f1(model_predictions[4])\"\"\""
   ]
  },
  {
   "cell_type": "code",
   "execution_count": null,
   "metadata": {},
   "outputs": [],
   "source": []
  },
  {
   "cell_type": "code",
   "execution_count": null,
   "metadata": {},
   "outputs": [],
   "source": []
  },
  {
   "cell_type": "code",
   "execution_count": null,
   "metadata": {},
   "outputs": [],
   "source": []
  }
 ],
 "metadata": {
  "kernelspec": {
   "display_name": "Python 3",
   "language": "python",
   "name": "python3"
  },
  "language_info": {
   "codemirror_mode": {
    "name": "ipython",
    "version": 3
   },
   "file_extension": ".py",
   "mimetype": "text/x-python",
   "name": "python",
   "nbconvert_exporter": "python",
   "pygments_lexer": "ipython3",
   "version": "3.8.3"
  }
 },
 "nbformat": 4,
 "nbformat_minor": 4
}

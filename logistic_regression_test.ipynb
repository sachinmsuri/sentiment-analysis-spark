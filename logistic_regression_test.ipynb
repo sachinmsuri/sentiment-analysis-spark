{
 "cells": [
  {
   "cell_type": "code",
   "execution_count": 1,
   "metadata": {},
   "outputs": [],
   "source": [
    "from pyspark.sql import SparkSession\n",
    "\n",
    "spark = SparkSession \\\n",
    "    .builder \\\n",
    "    .master(\"local[*]\") \\\n",
    "    .appName(\"CW\") \\\n",
    "    .getOrCreate()\n",
    "\n",
    "sc = spark.sparkContext"
   ]
  },
  {
   "cell_type": "code",
   "execution_count": 2,
   "metadata": {},
   "outputs": [
    {
     "data": {
      "text/html": [
       "\n",
       "        <div>\n",
       "            <p><b>SparkContext</b></p>\n",
       "\n",
       "            <p><a href=\"http://sachins-mbp.home:4040\">Spark UI</a></p>\n",
       "\n",
       "            <dl>\n",
       "              <dt>Version</dt>\n",
       "                <dd><code>v3.1.1</code></dd>\n",
       "              <dt>Master</dt>\n",
       "                <dd><code>local[*]</code></dd>\n",
       "              <dt>AppName</dt>\n",
       "                <dd><code>CW</code></dd>\n",
       "            </dl>\n",
       "        </div>\n",
       "        "
      ],
      "text/plain": [
       "<SparkContext master=local[*] appName=CW>"
      ]
     },
     "execution_count": 2,
     "metadata": {},
     "output_type": "execute_result"
    }
   ],
   "source": [
    "sc"
   ]
  },
  {
   "cell_type": "code",
   "execution_count": 3,
   "metadata": {},
   "outputs": [],
   "source": [
    "from pyspark.sql import SparkSession\n",
    "from preprocessing.Preprocessor import Preprocessor\n",
    "from pyspark.ml.classification import LogisticRegression\n",
    "from metrics.metrics import Metrics\n",
    "from pyspark.ml.tuning import TrainValidationSplit, CrossValidator, ParamGridBuilder\n",
    "from pyspark.ml.evaluation import MulticlassClassificationEvaluator\n",
    "import pyspark.sql.functions as F\n",
    "import matplotlib.pyplot as plt"
   ]
  },
  {
   "cell_type": "code",
   "execution_count": 4,
   "metadata": {},
   "outputs": [],
   "source": [
    "pp = Preprocessor(spark)"
   ]
  },
  {
   "cell_type": "code",
   "execution_count": 5,
   "metadata": {},
   "outputs": [
    {
     "data": {
      "text/plain": [
       "DataFrame[features: vector, label: int]"
      ]
     },
     "execution_count": 5,
     "metadata": {},
     "output_type": "execute_result"
    }
   ],
   "source": [
    "train = pp.to_tfidf('Cleaned Data/train.csv', min_frequency=275., remove_stop_words = False)\n",
    "train = train.sample(False,0.6)\n",
    "test =  pp.to_tfidf('Cleaned Data/test.csv')\n",
    "train.cache()\n",
    "test.cache()"
   ]
  },
  {
   "cell_type": "code",
   "execution_count": 6,
   "metadata": {},
   "outputs": [],
   "source": [
    "lr = LogisticRegression(maxIter=100, aggregationDepth = 2, elasticNetParam=0)"
   ]
  },
  {
   "cell_type": "code",
   "execution_count": 7,
   "metadata": {},
   "outputs": [
    {
     "name": "stdout",
     "output_type": "stream",
     "text": [
      "CPU times: user 12.6 ms, sys: 3.36 ms, total: 16 ms\n",
      "Wall time: 9.72 s\n"
     ]
    }
   ],
   "source": [
    "\"\"\"%%time\n",
    "model = lr.fit(train)\"\"\""
   ]
  },
  {
   "cell_type": "code",
   "execution_count": 8,
   "metadata": {},
   "outputs": [
    {
     "name": "stdout",
     "output_type": "stream",
     "text": [
      "F1 score for given DataFrame: 75.1\n",
      "\n",
      "                Predictions\n",
      "            negative    neutral     positive    \n",
      "negative    2686        146         1299        \n",
      "neutral     403         116         960         \n",
      "positive    659         190         9934        \n",
      "(True labels are on the side)\n",
      "\n"
     ]
    }
   ],
   "source": [
    "test_m = Metrics()\n",
    "test = model.transform(test).select('prediction', 'label')\n",
    "test_m.f1(test)\n",
    "test_m.confusion_matrix(test)"
   ]
  },
  {
   "cell_type": "code",
   "execution_count": 9,
   "metadata": {},
   "outputs": [
    {
     "data": {
      "text/plain": [
       "'encoding_lst = [pp.to_tfidf, pp.to_bow]\\n#pp.to_bow --> include in encoding_lst\\n\\nfor i in encoding_lst:\\n    train = i(\\'Cleaned Data/train.csv\\', min_frequency=275., remove_stop_words = False)\\n    test =  i(\\'Cleaned Data/test.csv\\')\\n    #train = pp.balance_classes(train)\\n    train.cache()\\n    test.cache()\\n    lr = LogisticRegression(maxIter=100, aggregationDepth = 2, elasticNetParam=0)\\n    model = lr.fit(train)\\n    test_m = Metrics()\\n    test = model.transform(test).select(\\'prediction\\', \\'label\\')\\n    #y = str(i)\\n    #x = str((test_m.f1(test)))\\n    #print(y + x, end = \"\")\\n    test_m.f1(test)\\n    test_m.confusion_matrix(test)'"
      ]
     },
     "execution_count": 9,
     "metadata": {},
     "output_type": "execute_result"
    }
   ],
   "source": [
    "\"\"\"encoding_lst = [pp.to_tfidf, pp.to_bow]\n",
    "#pp.to_bow --> include in encoding_lst\n",
    "\n",
    "for i in encoding_lst:\n",
    "    train = i('Cleaned Data/train.csv', min_frequency=275., remove_stop_words = False)\n",
    "    test =  i('Cleaned Data/test.csv')\n",
    "    #train = pp.balance_classes(train)\n",
    "    train.cache()\n",
    "    test.cache()\n",
    "    lr = LogisticRegression(maxIter=100, aggregationDepth = 2, elasticNetParam=0)\n",
    "    model = lr.fit(train)\n",
    "    test_m = Metrics()\n",
    "    test = model.transform(test).select('prediction', 'label')\n",
    "    #y = str(i)\n",
    "    #x = str((test_m.f1(test)))\n",
    "    #print(y + x, end = \"\")\n",
    "    test_m.f1(test)\n",
    "    test_m.confusion_matrix(test)\"\"\""
   ]
  },
  {
   "cell_type": "code",
   "execution_count": null,
   "metadata": {},
   "outputs": [],
   "source": []
  },
  {
   "cell_type": "code",
   "execution_count": null,
   "metadata": {},
   "outputs": [],
   "source": []
  }
 ],
 "metadata": {
  "kernelspec": {
   "display_name": "Python 3",
   "language": "python",
   "name": "python3"
  },
  "language_info": {
   "codemirror_mode": {
    "name": "ipython",
    "version": 3
   },
   "file_extension": ".py",
   "mimetype": "text/x-python",
   "name": "python",
   "nbconvert_exporter": "python",
   "pygments_lexer": "ipython3",
   "version": "3.8.3"
  }
 },
 "nbformat": 4,
 "nbformat_minor": 4
}

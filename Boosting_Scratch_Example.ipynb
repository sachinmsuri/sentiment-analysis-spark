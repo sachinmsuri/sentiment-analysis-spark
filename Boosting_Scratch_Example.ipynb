{
 "cells": [
  {
   "cell_type": "code",
   "execution_count": 1,
   "metadata": {},
   "outputs": [],
   "source": [
    "from pyspark.sql import SparkSession\n",
    "\n",
    "spark = SparkSession \\\n",
    "    .builder \\\n",
    "    .master(\"local[*]\") \\\n",
    "    .appName(\"CW\") \\\n",
    "    .getOrCreate()\n",
    "\n",
    "sc = spark.sparkContext"
   ]
  },
  {
   "cell_type": "code",
   "execution_count": 2,
   "metadata": {},
   "outputs": [
    {
     "data": {
      "text/html": [
       "\n",
       "        <div>\n",
       "            <p><b>SparkContext</b></p>\n",
       "\n",
       "            <p><a href=\"http://sachins-mbp.home:4040\">Spark UI</a></p>\n",
       "\n",
       "            <dl>\n",
       "              <dt>Version</dt>\n",
       "                <dd><code>v3.1.1</code></dd>\n",
       "              <dt>Master</dt>\n",
       "                <dd><code>local[*]</code></dd>\n",
       "              <dt>AppName</dt>\n",
       "                <dd><code>CW</code></dd>\n",
       "            </dl>\n",
       "        </div>\n",
       "        "
      ],
      "text/plain": [
       "<SparkContext master=local[*] appName=CW>"
      ]
     },
     "execution_count": 2,
     "metadata": {},
     "output_type": "execute_result"
    }
   ],
   "source": [
    "sc"
   ]
  },
  {
   "cell_type": "code",
   "execution_count": 3,
   "metadata": {},
   "outputs": [],
   "source": [
    "from pyspark.sql import SparkSession\n",
    "from preprocessing.Preprocessor import Preprocessor\n",
    "from pyspark.ml.classification import LogisticRegression\n",
    "from metrics.metrics import Metrics\n",
    "from pyspark.ml.tuning import TrainValidationSplit, CrossValidator, ParamGridBuilder\n",
    "from pyspark.ml.evaluation import MulticlassClassificationEvaluator\n",
    "import pyspark.sql.functions as F\n",
    "import matplotlib.pyplot as plt"
   ]
  },
  {
   "cell_type": "code",
   "execution_count": 4,
   "metadata": {},
   "outputs": [],
   "source": [
    "pp = Preprocessor(spark)"
   ]
  },
  {
   "cell_type": "code",
   "execution_count": 5,
   "metadata": {},
   "outputs": [
    {
     "data": {
      "text/plain": [
       "DataFrame[features: vector, label: int]"
      ]
     },
     "execution_count": 5,
     "metadata": {},
     "output_type": "execute_result"
    }
   ],
   "source": [
    "train = pp.to_tfidf('Cleaned Data/train.csv', min_frequency=275., remove_stop_words = False)\n",
    "test =  pp.to_tfidf('Cleaned Data/test.csv')\n",
    "train.cache()\n",
    "test.cache()"
   ]
  },
  {
   "cell_type": "code",
   "execution_count": 6,
   "metadata": {},
   "outputs": [
    {
     "name": "stdout",
     "output_type": "stream",
     "text": [
      "+--------------------+-----+\n",
      "|            features|label|\n",
      "+--------------------+-----+\n",
      "|(1948,[0,1,2,3,4,...|    2|\n",
      "|(1948,[0,1,6,7,16...|    0|\n",
      "|(1948,[0,1,2,3,4,...|    0|\n",
      "|(1948,[5,27,34,74...|    2|\n",
      "|(1948,[0,1,2,4,5,...|    2|\n",
      "+--------------------+-----+\n",
      "only showing top 5 rows\n",
      "\n"
     ]
    }
   ],
   "source": [
    "train.show(5)"
   ]
  },
  {
   "cell_type": "code",
   "execution_count": 8,
   "metadata": {},
   "outputs": [],
   "source": [
    "############MODEL 1"
   ]
  },
  {
   "cell_type": "code",
   "execution_count": 7,
   "metadata": {},
   "outputs": [
    {
     "name": "stdout",
     "output_type": "stream",
     "text": [
      "+--------------------+-----+------+\n",
      "|            features|label|weight|\n",
      "+--------------------+-----+------+\n",
      "|(1948,[0,1,2,3,4,...|    2|     1|\n",
      "|(1948,[0,1,6,7,16...|    0|     1|\n",
      "|(1948,[0,1,2,3,4,...|    0|     1|\n",
      "|(1948,[5,27,34,74...|    2|     1|\n",
      "|(1948,[0,1,2,4,5,...|    2|     1|\n",
      "+--------------------+-----+------+\n",
      "only showing top 5 rows\n",
      "\n"
     ]
    }
   ],
   "source": [
    "train_size = train.count()\n",
    "train = train.withColumn(\"weight\",F.lit(1))\n",
    "train.show(5)"
   ]
  },
  {
   "cell_type": "code",
   "execution_count": 9,
   "metadata": {},
   "outputs": [
    {
     "name": "stdout",
     "output_type": "stream",
     "text": [
      "+--------------------+-----+------+\n",
      "|            features|label|weight|\n",
      "+--------------------+-----+------+\n",
      "|(1948,[0,1,2,3,4,...|    2|     1|\n",
      "|(1948,[0,1,6,7,16...|    0|     1|\n",
      "|(1948,[0,1,2,3,4,...|    0|     1|\n",
      "|(1948,[5,27,34,74...|    2|     1|\n",
      "|(1948,[0,1,2,4,5,...|    2|     1|\n",
      "+--------------------+-----+------+\n",
      "only showing top 5 rows\n",
      "\n"
     ]
    }
   ],
   "source": [
    "train_sort = train.sort(F.desc(\"weight\"))\n",
    "train_sort.show(5)"
   ]
  },
  {
   "cell_type": "code",
   "execution_count": 10,
   "metadata": {},
   "outputs": [],
   "source": [
    "#train_sample = train_sort.limit(int(train_size*0.6))\n",
    "#train_sample.count()"
   ]
  },
  {
   "cell_type": "code",
   "execution_count": 11,
   "metadata": {},
   "outputs": [],
   "source": [
    "from pyspark.ml.classification import LogisticRegression"
   ]
  },
  {
   "cell_type": "code",
   "execution_count": 12,
   "metadata": {},
   "outputs": [],
   "source": [
    "lr = LogisticRegression(maxIter=100, aggregationDepth = 2, elasticNetParam=0)"
   ]
  },
  {
   "cell_type": "code",
   "execution_count": 15,
   "metadata": {},
   "outputs": [
    {
     "name": "stdout",
     "output_type": "stream",
     "text": [
      "+--------------------+----------+-----+------+\n",
      "|            features|prediction|label|weight|\n",
      "+--------------------+----------+-----+------+\n",
      "|(1948,[0,1,2,3,4,...|       2.0|    2|     1|\n",
      "|(1948,[0,1,6,7,16...|       2.0|    0|     1|\n",
      "|(1948,[0,1,2,3,4,...|       0.0|    0|     1|\n",
      "|(1948,[5,27,34,74...|       2.0|    2|     1|\n",
      "|(1948,[0,1,2,4,5,...|       2.0|    2|     1|\n",
      "|(1948,[0,1,2,3,4,...|       0.0|    0|     1|\n",
      "|(1948,[0,1,2,3,4,...|       2.0|    2|     1|\n",
      "|(1948,[0,1,3,4,5,...|       2.0|    2|     1|\n",
      "|(1948,[3,23,27,33...|       2.0|    2|     1|\n",
      "|(1948,[0,1,3,4,5,...|       0.0|    0|     1|\n",
      "|(1948,[0,1,2,3,5,...|       2.0|    2|     1|\n",
      "|(1948,[0,1,2,3,7,...|       0.0|    1|     1|\n",
      "|(1948,[0,1,2,3,4,...|       0.0|    0|     1|\n",
      "|(1948,[0,1,4,7,9,...|       2.0|    2|     1|\n",
      "|(1948,[0,1,2,5,6,...|       2.0|    2|     1|\n",
      "|(1948,[2,5,10,14,...|       2.0|    2|     1|\n",
      "|(1948,[0,1,2,4,5,...|       2.0|    2|     1|\n",
      "|(1948,[0,1,2,3,4,...|       2.0|    1|     1|\n",
      "|(1948,[0,1,2,3,4,...|       2.0|    0|     1|\n",
      "|(1948,[0,1,2,4,6,...|       2.0|    0|     1|\n",
      "+--------------------+----------+-----+------+\n",
      "only showing top 20 rows\n",
      "\n"
     ]
    }
   ],
   "source": [
    "model_1 = lr.fit(train_sort)\n",
    "model_1_predictions = model_1.transform(train_sort).select('features','prediction', 'label', 'weight')\n",
    "model_1_predictions.show()"
   ]
  },
  {
   "cell_type": "code",
   "execution_count": 18,
   "metadata": {},
   "outputs": [
    {
     "name": "stdout",
     "output_type": "stream",
     "text": [
      "root\n",
      " |-- features: vector (nullable = true)\n",
      " |-- prediction: double (nullable = false)\n",
      " |-- label: integer (nullable = true)\n",
      " |-- weight: integer (nullable = false)\n",
      "\n"
     ]
    }
   ],
   "source": [
    "model_1_predictions.printSchema()"
   ]
  },
  {
   "cell_type": "code",
   "execution_count": 20,
   "metadata": {},
   "outputs": [
    {
     "name": "stdout",
     "output_type": "stream",
     "text": [
      "root\n",
      " |-- features: vector (nullable = true)\n",
      " |-- prediction: integer (nullable = true)\n",
      " |-- label: integer (nullable = true)\n",
      " |-- weight: integer (nullable = false)\n",
      "\n"
     ]
    }
   ],
   "source": [
    "model_1_predictions = model_1_predictions.withColumn(\"prediction\",F.col(\"prediction\").cast(\"Integer\"))\n",
    "model_1_predictions.printSchema()"
   ]
  },
  {
   "cell_type": "code",
   "execution_count": 21,
   "metadata": {},
   "outputs": [],
   "source": [
    "model_1_predictions = model_1_predictions.withColumn(\"weight\", \n",
    "                    F.when(F.col(\"prediction\") != F.col(\"Label\"),2).otherwise(1))"
   ]
  },
  {
   "cell_type": "code",
   "execution_count": 24,
   "metadata": {},
   "outputs": [
    {
     "name": "stdout",
     "output_type": "stream",
     "text": [
      "+--------------------+----------+-----+-------------+\n",
      "|            features|prediction|label|weight_update|\n",
      "+--------------------+----------+-----+-------------+\n",
      "|(1948,[0,1,2,3,4,...|         2|    2|            1|\n",
      "|(1948,[0,1,6,7,16...|         2|    0|            2|\n",
      "|(1948,[0,1,2,3,4,...|         0|    0|            1|\n",
      "|(1948,[5,27,34,74...|         2|    2|            1|\n",
      "|(1948,[0,1,2,4,5,...|         2|    2|            1|\n",
      "+--------------------+----------+-----+-------------+\n",
      "only showing top 5 rows\n",
      "\n"
     ]
    }
   ],
   "source": [
    "model_1_predictions = model_1_predictions.withColumnRenamed(\"weight\",\"weight_update\")\n",
    "model_1_predictions = model_1_predictions.withColumnRenamed(\"label_misc\",\"label\")\n",
    "model_1_predictions.show(5)"
   ]
  },
  {
   "cell_type": "code",
   "execution_count": null,
   "metadata": {},
   "outputs": [],
   "source": [
    "#train_data_update = train.join(train_model_preds, [\"features\"])\n",
    "#train_data_update.show(5)"
   ]
  },
  {
   "cell_type": "code",
   "execution_count": 25,
   "metadata": {},
   "outputs": [],
   "source": [
    "new_training_data = model_1_predictions.sort(F.desc(\"weight_update\"))"
   ]
  },
  {
   "cell_type": "code",
   "execution_count": 26,
   "metadata": {},
   "outputs": [
    {
     "name": "stdout",
     "output_type": "stream",
     "text": [
      "+--------------------+----------+-----+-------------+\n",
      "|            features|prediction|label|weight_update|\n",
      "+--------------------+----------+-----+-------------+\n",
      "|(1948,[0,1,3,8,16...|         2|    0|            2|\n",
      "|(1948,[0,1,2,3,4,...|         1|    2|            2|\n",
      "|(1948,[0,1,2,3,4,...|         0|    1|            2|\n",
      "|(1948,[0,1,3,7,15...|         2|    0|            2|\n",
      "|(1948,[0,3,4,5,7,...|         0|    2|            2|\n",
      "+--------------------+----------+-----+-------------+\n",
      "only showing top 5 rows\n",
      "\n"
     ]
    }
   ],
   "source": [
    "new_training_data.show(5)"
   ]
  },
  {
   "cell_type": "code",
   "execution_count": null,
   "metadata": {},
   "outputs": [],
   "source": [
    "############MODEL 2"
   ]
  },
  {
   "cell_type": "code",
   "execution_count": 27,
   "metadata": {},
   "outputs": [
    {
     "name": "stdout",
     "output_type": "stream",
     "text": [
      "+--------------------+-----+-------------+\n",
      "|            features|label|weight_update|\n",
      "+--------------------+-----+-------------+\n",
      "|(1948,[0,1,6,7,16...|    0|            2|\n",
      "|(1948,[0,1,2,3,7,...|    1|            2|\n",
      "|(1948,[0,1,2,3,4,...|    1|            2|\n",
      "|(1948,[0,1,2,3,4,...|    0|            2|\n",
      "|(1948,[0,1,2,4,6,...|    0|            2|\n",
      "+--------------------+-----+-------------+\n",
      "only showing top 5 rows\n",
      "\n"
     ]
    }
   ],
   "source": [
    "train_data_model_2 = new_training_data.limit(int(train_size*0.6))\n",
    "train_data_model_2 = train_data_model_2.drop(\"prediction\")\n",
    "train_data_model_2.show(5)"
   ]
  },
  {
   "cell_type": "code",
   "execution_count": 30,
   "metadata": {},
   "outputs": [
    {
     "name": "stdout",
     "output_type": "stream",
     "text": [
      "+--------------------+----------+-----+-------------+\n",
      "|            features|prediction|label|weight_update|\n",
      "+--------------------+----------+-----+-------------+\n",
      "|(1948,[0,1,6,7,16...|       2.0|    0|            2|\n",
      "|(1948,[0,1,2,3,7,...|       0.0|    1|            2|\n",
      "|(1948,[0,1,2,3,4,...|       2.0|    1|            2|\n",
      "|(1948,[0,1,2,3,4,...|       2.0|    0|            2|\n",
      "|(1948,[0,1,2,4,6,...|       2.0|    0|            2|\n",
      "+--------------------+----------+-----+-------------+\n",
      "only showing top 5 rows\n",
      "\n"
     ]
    }
   ],
   "source": [
    "model_2 = lr.fit(train_data_model_2)\n",
    "model_2_predictions = model_2.transform(train_data_model_2).select('features','prediction', 'label', 'weight_update')\n",
    "model_2_predictions.show(5)"
   ]
  },
  {
   "cell_type": "code",
   "execution_count": 31,
   "metadata": {},
   "outputs": [],
   "source": [
    "model_2_predictions = model_2_predictions.withColumn(\"weight_update\", \n",
    "                    F.when(F.col(\"prediction\") != F.col(\"Label\"),2).otherwise(1))"
   ]
  },
  {
   "cell_type": "code",
   "execution_count": 32,
   "metadata": {},
   "outputs": [
    {
     "name": "stdout",
     "output_type": "stream",
     "text": [
      "+--------------------+----------+-----+-------------+\n",
      "|            features|prediction|label|weight_update|\n",
      "+--------------------+----------+-----+-------------+\n",
      "|(1948,[0,1,6,7,16...|       2.0|    0|            2|\n",
      "|(1948,[0,1,2,3,7,...|       0.0|    1|            2|\n",
      "|(1948,[0,1,2,3,4,...|       2.0|    1|            2|\n",
      "|(1948,[0,1,2,3,4,...|       2.0|    0|            2|\n",
      "|(1948,[0,1,2,4,6,...|       2.0|    0|            2|\n",
      "+--------------------+----------+-----+-------------+\n",
      "only showing top 5 rows\n",
      "\n"
     ]
    }
   ],
   "source": [
    "model_2_predictions.show(5)"
   ]
  },
  {
   "cell_type": "code",
   "execution_count": 35,
   "metadata": {},
   "outputs": [
    {
     "name": "stdout",
     "output_type": "stream",
     "text": [
      "+--------------------+----------+-----+-------------+\n",
      "|            features|prediction|label|weight_update|\n",
      "+--------------------+----------+-----+-------------+\n",
      "|(1948,[0,1,6,7,16...|       2.0|    0|            2|\n",
      "|(1948,[0,1,2,3,7,...|       0.0|    1|            2|\n",
      "|(1948,[0,1,2,3,4,...|       2.0|    1|            2|\n",
      "|(1948,[0,1,2,3,4,...|       2.0|    0|            2|\n",
      "|(1948,[0,1,2,4,6,...|       2.0|    0|            2|\n",
      "+--------------------+----------+-----+-------------+\n",
      "only showing top 5 rows\n",
      "\n"
     ]
    }
   ],
   "source": [
    "new_training_data_2 = model_2_predictions.sort(F.desc(\"weight_update\"))\n",
    "new_training_data_2.show(5)"
   ]
  },
  {
   "cell_type": "code",
   "execution_count": 33,
   "metadata": {},
   "outputs": [],
   "source": [
    "############MODEL 3"
   ]
  },
  {
   "cell_type": "code",
   "execution_count": 36,
   "metadata": {},
   "outputs": [
    {
     "name": "stdout",
     "output_type": "stream",
     "text": [
      "+--------------------+-----+-------------+\n",
      "|            features|label|weight_update|\n",
      "+--------------------+-----+-------------+\n",
      "|(1948,[0,1,6,7,16...|    0|            2|\n",
      "|(1948,[0,1,2,3,7,...|    1|            2|\n",
      "|(1948,[0,1,2,3,4,...|    1|            2|\n",
      "|(1948,[0,1,2,3,4,...|    0|            2|\n",
      "|(1948,[0,1,2,4,6,...|    0|            2|\n",
      "+--------------------+-----+-------------+\n",
      "only showing top 5 rows\n",
      "\n"
     ]
    }
   ],
   "source": [
    "train_data_model_3 = new_training_data_2.limit(int(train_size*0.6))\n",
    "train_data_model_3 = train_data_model_3.drop(\"prediction\")\n",
    "train_data_model_3.show(5)"
   ]
  },
  {
   "cell_type": "code",
   "execution_count": 37,
   "metadata": {},
   "outputs": [
    {
     "name": "stdout",
     "output_type": "stream",
     "text": [
      "+--------------------+----------+-----+-------------+\n",
      "|            features|prediction|label|weight_update|\n",
      "+--------------------+----------+-----+-------------+\n",
      "|(1948,[0,1,6,7,16...|       2.0|    0|            2|\n",
      "|(1948,[0,1,2,3,7,...|       0.0|    1|            2|\n",
      "|(1948,[0,1,2,3,4,...|       2.0|    1|            2|\n",
      "|(1948,[0,1,2,3,4,...|       2.0|    0|            2|\n",
      "|(1948,[0,1,2,4,6,...|       2.0|    0|            2|\n",
      "+--------------------+----------+-----+-------------+\n",
      "only showing top 5 rows\n",
      "\n"
     ]
    }
   ],
   "source": [
    "model_3 = lr.fit(train_data_model_3)\n",
    "model_3_predictions = model_3.transform(train_data_model_3).select('features','prediction', 'label', 'weight_update')\n",
    "model_3_predictions.show(5)"
   ]
  },
  {
   "cell_type": "code",
   "execution_count": null,
   "metadata": {},
   "outputs": [],
   "source": [
    "############################Test Models on Test Data"
   ]
  },
  {
   "cell_type": "code",
   "execution_count": 40,
   "metadata": {},
   "outputs": [],
   "source": [
    "model_1_test = model_1.transform(test).select('features','prediction','label')\n",
    "model_2_test = model_2.transform(test).select('features','prediction')\n",
    "model_3_test = model_3.transform(test).select('features','prediction')"
   ]
  },
  {
   "cell_type": "code",
   "execution_count": 41,
   "metadata": {},
   "outputs": [
    {
     "name": "stdout",
     "output_type": "stream",
     "text": [
      "+--------------------+----------+-----+\n",
      "|            features|prediction|label|\n",
      "+--------------------+----------+-----+\n",
      "|(1948,[0,1,3,7,8,...|       2.0|    2|\n",
      "|(1948,[0,1,2,3,4,...|       2.0|    2|\n",
      "|(1948,[0,1,2,3,4,...|       2.0|    1|\n",
      "|(1948,[0,2,3,4,5,...|       2.0|    2|\n",
      "|(1948,[0,1,2,4,5,...|       2.0|    2|\n",
      "+--------------------+----------+-----+\n",
      "only showing top 5 rows\n",
      "\n"
     ]
    }
   ],
   "source": [
    "model_1_test.show(5)"
   ]
  },
  {
   "cell_type": "code",
   "execution_count": 42,
   "metadata": {},
   "outputs": [],
   "source": [
    "model_1_test = model_1_test.withColumnRenamed(\"prediction\",\"prediction_1\")\n",
    "model_2_test = model_2_test.withColumnRenamed(\"prediction\",\"prediction_2\")\n",
    "model_3_test = model_3_test.withColumnRenamed(\"prediction\",\"prediction_3\")"
   ]
  },
  {
   "cell_type": "code",
   "execution_count": 43,
   "metadata": {},
   "outputs": [],
   "source": [
    "############# Voting"
   ]
  },
  {
   "cell_type": "code",
   "execution_count": 44,
   "metadata": {},
   "outputs": [],
   "source": [
    "test_voting = model_1_test.join(model_2_test, [\"features\"])"
   ]
  },
  {
   "cell_type": "code",
   "execution_count": 45,
   "metadata": {},
   "outputs": [
    {
     "name": "stdout",
     "output_type": "stream",
     "text": [
      "+--------------------+------------+-----+------------+\n",
      "|            features|prediction_1|label|prediction_2|\n",
      "+--------------------+------------+-----+------------+\n",
      "|(1948,[0,1,3,7,8,...|         2.0|    2|         2.0|\n",
      "|(1948,[0,1,2,3,4,...|         2.0|    2|         2.0|\n",
      "|(1948,[0,1,2,3,4,...|         2.0|    2|         2.0|\n",
      "|(1948,[0,1,2,3,4,...|         2.0|    1|         2.0|\n",
      "|(1948,[0,2,3,4,5,...|         2.0|    2|         2.0|\n",
      "+--------------------+------------+-----+------------+\n",
      "only showing top 5 rows\n",
      "\n"
     ]
    }
   ],
   "source": [
    "test_voting.show(5)"
   ]
  },
  {
   "cell_type": "code",
   "execution_count": 46,
   "metadata": {},
   "outputs": [
    {
     "name": "stdout",
     "output_type": "stream",
     "text": [
      "+--------------------+------------+-----+------------+------------+\n",
      "|            features|prediction_1|label|prediction_2|prediction_3|\n",
      "+--------------------+------------+-----+------------+------------+\n",
      "|(1948,[0,1,2,3,4,...|         2.0|    2|         2.0|         2.0|\n",
      "|(1948,[0,1,2,3,4,...|         2.0|    0|         2.0|         2.0|\n",
      "|(1948,[0,1,2,3,4,...|         2.0|    2|         2.0|         2.0|\n",
      "|(1948,[0,1,2,3,4,...|         2.0|    2|         2.0|         2.0|\n",
      "|(1948,[0,1,2,3,4,...|         2.0|    2|         2.0|         2.0|\n",
      "+--------------------+------------+-----+------------+------------+\n",
      "only showing top 5 rows\n",
      "\n"
     ]
    }
   ],
   "source": [
    "test_voting = test_voting.join(model_3_test, [\"features\"])\n",
    "test_voting.show(5)"
   ]
  },
  {
   "cell_type": "code",
   "execution_count": 47,
   "metadata": {},
   "outputs": [],
   "source": [
    "from collections import Counter\n",
    "from pyspark.sql.functions import udf\n",
    "\n",
    "@udf\n",
    "def mode(*v):\n",
    "    counter = Counter(x for x in v if x is not None)\n",
    "    if len(counter) > 0:\n",
    "        return counter.most_common(1)[0][0]\n",
    "    else:\n",
    "        return None\n",
    "\n",
    "test_voting = test_voting.withColumn('prediction', mode('prediction_1', 'prediction_2', 'prediction_3'))"
   ]
  },
  {
   "cell_type": "code",
   "execution_count": 48,
   "metadata": {},
   "outputs": [
    {
     "name": "stdout",
     "output_type": "stream",
     "text": [
      "+--------------------+------------+-----+------------+------------+----------+\n",
      "|            features|prediction_1|label|prediction_2|prediction_3|prediction|\n",
      "+--------------------+------------+-----+------------+------------+----------+\n",
      "|(1948,[0,1,2,3,4,...|         2.0|    2|         2.0|         2.0|       2.0|\n",
      "|(1948,[0,1,2,3,4,...|         2.0|    0|         2.0|         2.0|       2.0|\n",
      "|(1948,[0,1,2,3,4,...|         2.0|    2|         2.0|         2.0|       2.0|\n",
      "|(1948,[0,1,2,3,4,...|         2.0|    2|         2.0|         2.0|       2.0|\n",
      "|(1948,[0,1,2,3,4,...|         2.0|    2|         2.0|         2.0|       2.0|\n",
      "+--------------------+------------+-----+------------+------------+----------+\n",
      "only showing top 5 rows\n",
      "\n"
     ]
    }
   ],
   "source": [
    "test_voting.show(5)"
   ]
  },
  {
   "cell_type": "code",
   "execution_count": 49,
   "metadata": {},
   "outputs": [],
   "source": [
    "test_voting = test_voting.withColumn(\"prediction\",test_voting.prediction.cast('double'))"
   ]
  },
  {
   "cell_type": "code",
   "execution_count": 51,
   "metadata": {},
   "outputs": [
    {
     "name": "stdout",
     "output_type": "stream",
     "text": [
      "F1 score for given DataFrame: 76.2\n",
      "\n"
     ]
    }
   ],
   "source": [
    "test_m = Metrics()\n",
    "test_m.f1(test_voting)"
   ]
  },
  {
   "cell_type": "code",
   "execution_count": null,
   "metadata": {},
   "outputs": [],
   "source": []
  },
  {
   "cell_type": "code",
   "execution_count": null,
   "metadata": {},
   "outputs": [],
   "source": []
  },
  {
   "cell_type": "code",
   "execution_count": null,
   "metadata": {},
   "outputs": [],
   "source": []
  },
  {
   "cell_type": "code",
   "execution_count": null,
   "metadata": {},
   "outputs": [],
   "source": [
    "######################## Ignore code below!!!"
   ]
  },
  {
   "cell_type": "code",
   "execution_count": null,
   "metadata": {},
   "outputs": [],
   "source": [
    "train_model_preds = train_model.transform(train_sample).select('features','prediction', 'label', 'weight')"
   ]
  },
  {
   "cell_type": "code",
   "execution_count": null,
   "metadata": {},
   "outputs": [],
   "source": [
    "train_model_preds = train_model_preds.withColumn(\"prediction\",F.col(\"prediction\").cast(\"Integer\"))"
   ]
  },
  {
   "cell_type": "code",
   "execution_count": null,
   "metadata": {},
   "outputs": [],
   "source": [
    "train_model_preds = train_model_preds.withColumn(\"weight\", F.when(F.col(\"prediction\") != F.col(\"Label\"),2)\n",
    "      .otherwise(1))"
   ]
  },
  {
   "cell_type": "code",
   "execution_count": null,
   "metadata": {},
   "outputs": [],
   "source": [
    "train_model_preds = train_model_preds.withColumnRenamed(\"weight\",\"weight_update\")\n",
    "train_model_preds = train_model_preds.withColumnRenamed(\"label\",\"label_misc\")"
   ]
  },
  {
   "cell_type": "code",
   "execution_count": null,
   "metadata": {},
   "outputs": [],
   "source": [
    "train_data_update = train.join(train_model_preds, [\"features\"])"
   ]
  },
  {
   "cell_type": "code",
   "execution_count": null,
   "metadata": {},
   "outputs": [],
   "source": [
    "train_data_update = train_data_update.sort(F.desc(\"weight_update\"))"
   ]
  },
  {
   "cell_type": "code",
   "execution_count": null,
   "metadata": {},
   "outputs": [],
   "source": [
    "#\n",
    "train_sample = train_data_update.limit(int(train_size*0.75))"
   ]
  },
  {
   "cell_type": "code",
   "execution_count": null,
   "metadata": {},
   "outputs": [],
   "source": [
    "train_sample = train_sample.drop(\"prediction\")"
   ]
  },
  {
   "cell_type": "code",
   "execution_count": null,
   "metadata": {},
   "outputs": [],
   "source": [
    "train_model = lr.fit(train_sample)"
   ]
  },
  {
   "cell_type": "code",
   "execution_count": null,
   "metadata": {},
   "outputs": [],
   "source": [
    "##################################################################"
   ]
  },
  {
   "cell_type": "code",
   "execution_count": null,
   "metadata": {},
   "outputs": [],
   "source": [
    "test_m = Metrics()"
   ]
  },
  {
   "cell_type": "code",
   "execution_count": null,
   "metadata": {},
   "outputs": [],
   "source": [
    "test_model = train_model.transform(test).select('prediction', 'label')"
   ]
  },
  {
   "cell_type": "code",
   "execution_count": null,
   "metadata": {},
   "outputs": [],
   "source": [
    "test_m.f1(test_model)"
   ]
  },
  {
   "cell_type": "code",
   "execution_count": null,
   "metadata": {},
   "outputs": [],
   "source": [
    "test_m.confusion_matrix(test_model)"
   ]
  },
  {
   "cell_type": "code",
   "execution_count": null,
   "metadata": {},
   "outputs": [],
   "source": []
  }
 ],
 "metadata": {
  "kernelspec": {
   "display_name": "Python 3",
   "language": "python",
   "name": "python3"
  },
  "language_info": {
   "codemirror_mode": {
    "name": "ipython",
    "version": 3
   },
   "file_extension": ".py",
   "mimetype": "text/x-python",
   "name": "python",
   "nbconvert_exporter": "python",
   "pygments_lexer": "ipython3",
   "version": "3.8.3"
  }
 },
 "nbformat": 4,
 "nbformat_minor": 4
}
